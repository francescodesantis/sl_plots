{
 "cells": [
  {
   "cell_type": "code",
   "execution_count": 1,
   "metadata": {},
   "outputs": [
    {
     "name": "stderr",
     "output_type": "stream",
     "text": [
      "/mnt/c/users/utente/Desktop/repos/hears_env/lib/python3.12/site-packages/setuptools/_distutils/_msvccompiler.py:12: UserWarning: _get_vc_env is private; find an alternative (pypa/distutils#340)\n",
      "  warnings.warn(\n"
     ]
    }
   ],
   "source": [
    "%reload_ext autoreload\n",
    "%autoreload 2\n",
    "\n",
    "import matplotlib.pyplot as plt\n",
    "import numpy as np\n",
    "import dill\n",
    "from tqdm import tqdm\n",
    "import sys\n",
    "import os\n",
    "\n",
    "# Get the current working directory\n",
    "current_dir = os.getcwd()\n",
    "# Add the parent directory to sys.path\n",
    "sys.path.append(os.path.dirname(current_dir))\n",
    "\n",
    "from analyze.report import calculate_vector_strength_from_result, calculate_vector_strength_from_result_polar\n"
   ]
  },
  {
   "cell_type": "code",
   "execution_count": 3,
   "metadata": {},
   "outputs": [
    {
     "name": "stdout",
     "output_type": "stream",
     "text": [
      "tone_0.1kHz_70dB&TanCarney&ild_only.pic\n",
      "tone_0.1kHz_70dB&TanCarney&itd_only.pic\n",
      "tone_0.1kHz_70dB&TanCarney&itd_only_myoga_inv.pic\n",
      "tone_0.1kHz_70dB&TanCarney&itd_only_myoga_null.pic\n",
      "tone_0.1kHz_70dB&TanCarney&itd_only_no_MSO_inh.pic\n",
      "tone_0.1kHz_70dB&TanCarney&subject_1.pic\n",
      "tone_0.1kHz_70dB&TanCarney&subject_1_myoga_inv.pic\n",
      "tone_0.1kHz_70dB&TanCarney&subject_1_myoga_null.pic\n",
      "tone_0.1kHz_70dB&TanCarney&subject_1_no_MSO_inh.pic\n",
      "tone_0.1kHz_70dB&TanCarney&subject_2.pic\n",
      "tone_0.3kHz_70dB&TanCarney&subject_1.pic\n",
      "tone_0.4kHz_70dB&TanCarney&subject_1.pic\n",
      "tone_0.5kHz_70dB&TanCarney&subject_1.pic\n",
      "tone_0.6kHz_70dB&TanCarney&subject_1.pic\n",
      "tone_0.7kHz_70dB&TanCarney&subject_1.pic\n",
      "tone_0.8kHz_70dB&TanCarney&subject_1.pic\n",
      "tone_0.9kHz_70dB&TanCarney&subject_1.pic\n",
      "tone_1.1kHz_70dB&TanCarney&subject_1.pic\n",
      "tone_1.2kHz_70dB&TanCarney&subject_1.pic\n",
      "tone_1.3kHz_70dB&TanCarney&subject_1.pic\n",
      "tone_1.4kHz_70dB&TanCarney&subject_1.pic\n",
      "tone_1.kHz_70dB&TanCarney&ild_only.pic\n",
      "tone_1.kHz_70dB&TanCarney&itd_only.pic\n",
      "tone_1.kHz_70dB&TanCarney&itd_only_myoga_inv.pic\n",
      "tone_1.kHz_70dB&TanCarney&itd_only_myoga_null.pic\n",
      "tone_1.kHz_70dB&TanCarney&itd_only_no_MSO_inh.pic\n",
      "tone_1.kHz_70dB&TanCarney&subject_1.pic\n",
      "tone_1.kHz_70dB&TanCarney&subject_1_myoga_inv.pic\n",
      "tone_1.kHz_70dB&TanCarney&subject_1_myoga_null.pic\n",
      "tone_1.kHz_70dB&TanCarney&subject_1_no_MSO_inh.pic\n",
      "tone_1.kHz_70dB&TanCarney&subject_2.pic\n",
      "tone_1.kHz_70dB&TanCarney&subject_2_no_MSO_inh.pic\n",
      "tone_10.kHz_70dB&TanCarney&ild_only.pic\n",
      "tone_10.kHz_70dB&TanCarney&itd_only.pic\n",
      "tone_10.kHz_70dB&TanCarney&subject_1.pic\n",
      "tone_10.kHz_70dB&TanCarney&subject_2.pic\n"
     ]
    }
   ],
   "source": [
    "# List directory contents\n",
    "result_dir = '/mnt/c/Users/utente/OneDrive - Politecnico di Milano/work/sl_results/'\n",
    "items = os.listdir(result_dir)\n",
    "for item in items:\n",
    "    print(item) \n"
   ]
  },
  {
   "cell_type": "code",
   "execution_count": 4,
   "metadata": {},
   "outputs": [
    {
     "name": "stderr",
     "output_type": "stream",
     "text": [
      "  0%|          | 0/8 [00:00<?, ?it/s]\n",
      "  8%|▊         | 1/12 [01:44<19:05, 104.10s/it]"
     ]
    },
    {
     "name": "stdout",
     "output_type": "stream",
     "text": [
      "Frequency: 0.1kHz, CF target: 20, Vector Strength: 0.10334322479464318\n"
     ]
    },
    {
     "name": "stderr",
     "output_type": "stream",
     "text": [
      "\u001b[A"
     ]
    },
    {
     "name": "stdout",
     "output_type": "stream",
     "text": [
      "Frequency: 0.3kHz, CF target: 20, Vector Strength: 0.2288931002256304\n"
     ]
    },
    {
     "name": "stderr",
     "output_type": "stream",
     "text": []
    },
    {
     "name": "stdout",
     "output_type": "stream",
     "text": [
      "Frequency: 0.4kHz, CF target: 20, Vector Strength: 0.18036671597210033\n"
     ]
    },
    {
     "name": "stderr",
     "output_type": "stream",
     "text": []
    },
    {
     "name": "stdout",
     "output_type": "stream",
     "text": [
      "Frequency: 0.5kHz, CF target: 20, Vector Strength: 0.09048567861092065\n"
     ]
    },
    {
     "name": "stderr",
     "output_type": "stream",
     "text": []
    },
    {
     "name": "stdout",
     "output_type": "stream",
     "text": [
      "Frequency: 0.6kHz, CF target: 20, Vector Strength: 0.2857855941470154\n"
     ]
    },
    {
     "name": "stderr",
     "output_type": "stream",
     "text": []
    },
    {
     "name": "stdout",
     "output_type": "stream",
     "text": [
      "Frequency: 0.7kHz, CF target: 20, Vector Strength: 0.10852760489217297\n"
     ]
    },
    {
     "name": "stderr",
     "output_type": "stream",
     "text": []
    },
    {
     "name": "stdout",
     "output_type": "stream",
     "text": [
      "Frequency: 0.8kHz, CF target: 20, Vector Strength: 0.11424369886141393\n"
     ]
    },
    {
     "name": "stderr",
     "output_type": "stream",
     "text": []
    },
    {
     "name": "stdout",
     "output_type": "stream",
     "text": [
      "Frequency: 0.9kHz, CF target: 20, Vector Strength: 0.24419551761016045\n"
     ]
    },
    {
     "name": "stderr",
     "output_type": "stream",
     "text": []
    },
    {
     "name": "stdout",
     "output_type": "stream",
     "text": [
      "Frequency: 1.1kHz, CF target: 20, Vector Strength: 0.33666811034889216\n"
     ]
    },
    {
     "name": "stderr",
     "output_type": "stream",
     "text": []
    },
    {
     "name": "stdout",
     "output_type": "stream",
     "text": [
      "Frequency: 1.2kHz, CF target: 20, Vector Strength: 0.3033578381938432\n"
     ]
    },
    {
     "name": "stderr",
     "output_type": "stream",
     "text": []
    },
    {
     "name": "stdout",
     "output_type": "stream",
     "text": [
      "Frequency: 1.3kHz, CF target: 20, Vector Strength: 0.11548338346329184\n"
     ]
    },
    {
     "name": "stderr",
     "output_type": "stream",
     "text": [
      "100%|██████████| 12/12 [07:23<00:00, 36.93s/it]\n",
      " 12%|█▎        | 1/8 [07:23<51:42, 443.18s/it]"
     ]
    },
    {
     "name": "stdout",
     "output_type": "stream",
     "text": [
      "Frequency: 1.4kHz, CF target: 20, Vector Strength: 0.13338295802368802\n"
     ]
    },
    {
     "name": "stderr",
     "output_type": "stream",
     "text": []
    },
    {
     "name": "stdout",
     "output_type": "stream",
     "text": [
      "Frequency: 0.1kHz, CF target: 100, Vector Strength: 0.6769017754141142\n"
     ]
    },
    {
     "name": "stderr",
     "output_type": "stream",
     "text": []
    },
    {
     "name": "stdout",
     "output_type": "stream",
     "text": [
      "Frequency: 0.3kHz, CF target: 100, Vector Strength: 0.31975887758618415\n"
     ]
    },
    {
     "name": "stderr",
     "output_type": "stream",
     "text": []
    },
    {
     "name": "stdout",
     "output_type": "stream",
     "text": [
      "Frequency: 0.4kHz, CF target: 100, Vector Strength: 0.056906270159570005\n"
     ]
    },
    {
     "name": "stderr",
     "output_type": "stream",
     "text": []
    },
    {
     "name": "stdout",
     "output_type": "stream",
     "text": [
      "Frequency: 0.5kHz, CF target: 100, Vector Strength: 0.11507353863005727\n"
     ]
    },
    {
     "name": "stderr",
     "output_type": "stream",
     "text": []
    },
    {
     "name": "stdout",
     "output_type": "stream",
     "text": [
      "Frequency: 0.6kHz, CF target: 100, Vector Strength: 0.19218446129255717\n"
     ]
    },
    {
     "name": "stderr",
     "output_type": "stream",
     "text": []
    },
    {
     "name": "stdout",
     "output_type": "stream",
     "text": [
      "Frequency: 0.7kHz, CF target: 100, Vector Strength: 0.2869797474753652\n"
     ]
    },
    {
     "name": "stderr",
     "output_type": "stream",
     "text": []
    },
    {
     "name": "stdout",
     "output_type": "stream",
     "text": [
      "Frequency: 0.8kHz, CF target: 100, Vector Strength: 0.04543412455152315\n"
     ]
    },
    {
     "name": "stderr",
     "output_type": "stream",
     "text": []
    },
    {
     "name": "stdout",
     "output_type": "stream",
     "text": [
      "Frequency: 0.9kHz, CF target: 100, Vector Strength: 0.27108852726080757\n"
     ]
    },
    {
     "name": "stderr",
     "output_type": "stream",
     "text": []
    },
    {
     "name": "stdout",
     "output_type": "stream",
     "text": [
      "Frequency: 1.1kHz, CF target: 100, Vector Strength: 0.019237703368663643\n"
     ]
    },
    {
     "name": "stderr",
     "output_type": "stream",
     "text": []
    },
    {
     "name": "stdout",
     "output_type": "stream",
     "text": [
      "Frequency: 1.2kHz, CF target: 100, Vector Strength: 0.13819911035366286\n"
     ]
    },
    {
     "name": "stderr",
     "output_type": "stream",
     "text": []
    },
    {
     "name": "stdout",
     "output_type": "stream",
     "text": [
      "Frequency: 1.3kHz, CF target: 100, Vector Strength: 0.1156530298213639\n"
     ]
    },
    {
     "name": "stderr",
     "output_type": "stream",
     "text": [
      "100%|██████████| 12/12 [04:41<00:00, 23.46s/it]\n",
      " 25%|██▌       | 2/8 [12:04<34:48, 348.11s/it]"
     ]
    },
    {
     "name": "stdout",
     "output_type": "stream",
     "text": [
      "Frequency: 1.4kHz, CF target: 100, Vector Strength: 0.053565133367507504\n"
     ]
    },
    {
     "name": "stderr",
     "output_type": "stream",
     "text": []
    },
    {
     "name": "stdout",
     "output_type": "stream",
     "text": [
      "Frequency: 0.1kHz, CF target: 200, Vector Strength: 0.15985292826046496\n"
     ]
    },
    {
     "name": "stderr",
     "output_type": "stream",
     "text": []
    },
    {
     "name": "stdout",
     "output_type": "stream",
     "text": [
      "Frequency: 0.3kHz, CF target: 200, Vector Strength: 0.7120958714880727\n"
     ]
    },
    {
     "name": "stderr",
     "output_type": "stream",
     "text": []
    },
    {
     "name": "stdout",
     "output_type": "stream",
     "text": [
      "Frequency: 0.4kHz, CF target: 200, Vector Strength: 0.7172751441350121\n"
     ]
    },
    {
     "name": "stderr",
     "output_type": "stream",
     "text": []
    },
    {
     "name": "stdout",
     "output_type": "stream",
     "text": [
      "Frequency: 0.5kHz, CF target: 200, Vector Strength: 0.12061395550519165\n"
     ]
    },
    {
     "name": "stderr",
     "output_type": "stream",
     "text": []
    },
    {
     "name": "stdout",
     "output_type": "stream",
     "text": [
      "Frequency: 0.6kHz, CF target: 200, Vector Strength: 0.200629208324903\n"
     ]
    },
    {
     "name": "stderr",
     "output_type": "stream",
     "text": []
    },
    {
     "name": "stdout",
     "output_type": "stream",
     "text": [
      "Frequency: 0.7kHz, CF target: 200, Vector Strength: 0.08948697001480245\n"
     ]
    },
    {
     "name": "stderr",
     "output_type": "stream",
     "text": []
    },
    {
     "name": "stdout",
     "output_type": "stream",
     "text": [
      "Frequency: 0.8kHz, CF target: 200, Vector Strength: 0.10209844993418558\n"
     ]
    },
    {
     "name": "stderr",
     "output_type": "stream",
     "text": []
    },
    {
     "name": "stdout",
     "output_type": "stream",
     "text": [
      "Frequency: 0.9kHz, CF target: 200, Vector Strength: 0.07972821202282848\n"
     ]
    },
    {
     "name": "stderr",
     "output_type": "stream",
     "text": []
    },
    {
     "name": "stdout",
     "output_type": "stream",
     "text": [
      "Frequency: 1.1kHz, CF target: 200, Vector Strength: 0.04861290997591121\n"
     ]
    },
    {
     "name": "stderr",
     "output_type": "stream",
     "text": []
    },
    {
     "name": "stdout",
     "output_type": "stream",
     "text": [
      "Frequency: 1.2kHz, CF target: 200, Vector Strength: 0.16353203465788516\n"
     ]
    },
    {
     "name": "stderr",
     "output_type": "stream",
     "text": []
    },
    {
     "name": "stdout",
     "output_type": "stream",
     "text": [
      "Frequency: 1.3kHz, CF target: 200, Vector Strength: 0.15351279349589345\n"
     ]
    },
    {
     "name": "stderr",
     "output_type": "stream",
     "text": [
      "100%|██████████| 12/12 [05:43<00:00, 28.66s/it]\n",
      " 38%|███▊      | 3/8 [17:48<28:51, 346.22s/it]"
     ]
    },
    {
     "name": "stdout",
     "output_type": "stream",
     "text": [
      "Frequency: 1.4kHz, CF target: 200, Vector Strength: 0.20162773741183818\n"
     ]
    },
    {
     "name": "stderr",
     "output_type": "stream",
     "text": []
    },
    {
     "name": "stdout",
     "output_type": "stream",
     "text": [
      "Frequency: 0.1kHz, CF target: 400, Vector Strength: 0.11346376467793476\n"
     ]
    },
    {
     "name": "stderr",
     "output_type": "stream",
     "text": []
    },
    {
     "name": "stdout",
     "output_type": "stream",
     "text": [
      "Frequency: 0.3kHz, CF target: 400, Vector Strength: 0.7055698051032949\n"
     ]
    },
    {
     "name": "stderr",
     "output_type": "stream",
     "text": []
    },
    {
     "name": "stdout",
     "output_type": "stream",
     "text": [
      "Frequency: 0.4kHz, CF target: 400, Vector Strength: 0.719950028716794\n"
     ]
    },
    {
     "name": "stderr",
     "output_type": "stream",
     "text": []
    },
    {
     "name": "stdout",
     "output_type": "stream",
     "text": [
      "Frequency: 0.5kHz, CF target: 400, Vector Strength: 0.7301281950837757\n"
     ]
    },
    {
     "name": "stderr",
     "output_type": "stream",
     "text": []
    },
    {
     "name": "stdout",
     "output_type": "stream",
     "text": [
      "Frequency: 0.6kHz, CF target: 400, Vector Strength: 0.7237180027958175\n"
     ]
    },
    {
     "name": "stderr",
     "output_type": "stream",
     "text": []
    },
    {
     "name": "stdout",
     "output_type": "stream",
     "text": [
      "Frequency: 0.7kHz, CF target: 400, Vector Strength: 0.4480757477945572\n"
     ]
    },
    {
     "name": "stderr",
     "output_type": "stream",
     "text": []
    },
    {
     "name": "stdout",
     "output_type": "stream",
     "text": [
      "Frequency: 0.8kHz, CF target: 400, Vector Strength: 0.16558971211155551\n"
     ]
    },
    {
     "name": "stderr",
     "output_type": "stream",
     "text": []
    },
    {
     "name": "stdout",
     "output_type": "stream",
     "text": [
      "Frequency: 0.9kHz, CF target: 400, Vector Strength: 0.15789079873970052\n"
     ]
    },
    {
     "name": "stderr",
     "output_type": "stream",
     "text": []
    },
    {
     "name": "stdout",
     "output_type": "stream",
     "text": [
      "Frequency: 1.1kHz, CF target: 400, Vector Strength: 0.11810303244441185\n"
     ]
    },
    {
     "name": "stderr",
     "output_type": "stream",
     "text": []
    },
    {
     "name": "stdout",
     "output_type": "stream",
     "text": [
      "Frequency: 1.2kHz, CF target: 400, Vector Strength: 0.054556657385787535\n"
     ]
    },
    {
     "name": "stderr",
     "output_type": "stream",
     "text": []
    },
    {
     "name": "stdout",
     "output_type": "stream",
     "text": [
      "Frequency: 1.3kHz, CF target: 400, Vector Strength: 0.2043970003553967\n"
     ]
    },
    {
     "name": "stderr",
     "output_type": "stream",
     "text": [
      "100%|██████████| 12/12 [08:28<00:00, 42.39s/it]\n",
      " 50%|█████     | 4/8 [26:17<27:21, 410.34s/it]"
     ]
    },
    {
     "name": "stdout",
     "output_type": "stream",
     "text": [
      "Frequency: 1.4kHz, CF target: 400, Vector Strength: 0.1406894836258604\n"
     ]
    },
    {
     "name": "stderr",
     "output_type": "stream",
     "text": []
    },
    {
     "name": "stdout",
     "output_type": "stream",
     "text": [
      "Frequency: 0.1kHz, CF target: 800, Vector Strength: 0.11026339692640098\n"
     ]
    },
    {
     "name": "stderr",
     "output_type": "stream",
     "text": []
    },
    {
     "name": "stdout",
     "output_type": "stream",
     "text": [
      "Frequency: 0.3kHz, CF target: 800, Vector Strength: 0.13974285011952908\n"
     ]
    },
    {
     "name": "stderr",
     "output_type": "stream",
     "text": []
    },
    {
     "name": "stdout",
     "output_type": "stream",
     "text": [
      "Frequency: 0.4kHz, CF target: 800, Vector Strength: 0.21475095607883016\n"
     ]
    },
    {
     "name": "stderr",
     "output_type": "stream",
     "text": []
    },
    {
     "name": "stdout",
     "output_type": "stream",
     "text": [
      "Frequency: 0.5kHz, CF target: 800, Vector Strength: 0.2595243251849523\n"
     ]
    },
    {
     "name": "stderr",
     "output_type": "stream",
     "text": []
    },
    {
     "name": "stdout",
     "output_type": "stream",
     "text": [
      "Frequency: 0.6kHz, CF target: 800, Vector Strength: 0.7358411399089041\n"
     ]
    },
    {
     "name": "stderr",
     "output_type": "stream",
     "text": []
    },
    {
     "name": "stdout",
     "output_type": "stream",
     "text": [
      "Frequency: 0.7kHz, CF target: 800, Vector Strength: 0.7168340490521732\n"
     ]
    },
    {
     "name": "stderr",
     "output_type": "stream",
     "text": []
    },
    {
     "name": "stdout",
     "output_type": "stream",
     "text": [
      "Frequency: 0.8kHz, CF target: 800, Vector Strength: 0.7105087260577891\n"
     ]
    },
    {
     "name": "stderr",
     "output_type": "stream",
     "text": []
    },
    {
     "name": "stdout",
     "output_type": "stream",
     "text": [
      "Frequency: 0.9kHz, CF target: 800, Vector Strength: 0.7583088174650668\n"
     ]
    },
    {
     "name": "stderr",
     "output_type": "stream",
     "text": []
    },
    {
     "name": "stdout",
     "output_type": "stream",
     "text": [
      "Frequency: 1.1kHz, CF target: 800, Vector Strength: 0.4705761641025297\n"
     ]
    },
    {
     "name": "stderr",
     "output_type": "stream",
     "text": []
    },
    {
     "name": "stdout",
     "output_type": "stream",
     "text": [
      "Frequency: 1.2kHz, CF target: 800, Vector Strength: 0.1576762694510474\n"
     ]
    },
    {
     "name": "stderr",
     "output_type": "stream",
     "text": []
    },
    {
     "name": "stdout",
     "output_type": "stream",
     "text": [
      "Frequency: 1.3kHz, CF target: 800, Vector Strength: 0.11691491487509134\n"
     ]
    },
    {
     "name": "stderr",
     "output_type": "stream",
     "text": [
      "100%|██████████| 12/12 [04:17<00:00, 21.45s/it]\n",
      " 62%|██████▎   | 5/8 [30:34<17:45, 355.20s/it]"
     ]
    },
    {
     "name": "stdout",
     "output_type": "stream",
     "text": [
      "Frequency: 1.4kHz, CF target: 800, Vector Strength: 0.1293310321493882\n"
     ]
    },
    {
     "name": "stderr",
     "output_type": "stream",
     "text": []
    },
    {
     "name": "stdout",
     "output_type": "stream",
     "text": [
      "Frequency: 0.1kHz, CF target: 1000, Vector Strength: 0.12218092979550751\n"
     ]
    },
    {
     "name": "stderr",
     "output_type": "stream",
     "text": []
    },
    {
     "name": "stdout",
     "output_type": "stream",
     "text": [
      "Frequency: 0.3kHz, CF target: 1000, Vector Strength: 0.1559564222319958\n"
     ]
    },
    {
     "name": "stderr",
     "output_type": "stream",
     "text": []
    },
    {
     "name": "stdout",
     "output_type": "stream",
     "text": [
      "Frequency: 0.4kHz, CF target: 1000, Vector Strength: 0.09072822089826363\n"
     ]
    },
    {
     "name": "stderr",
     "output_type": "stream",
     "text": []
    },
    {
     "name": "stdout",
     "output_type": "stream",
     "text": [
      "Frequency: 0.5kHz, CF target: 1000, Vector Strength: 0.11255086711376694\n"
     ]
    },
    {
     "name": "stderr",
     "output_type": "stream",
     "text": []
    },
    {
     "name": "stdout",
     "output_type": "stream",
     "text": [
      "Frequency: 0.6kHz, CF target: 1000, Vector Strength: 0.18601179014210978\n"
     ]
    },
    {
     "name": "stderr",
     "output_type": "stream",
     "text": []
    },
    {
     "name": "stdout",
     "output_type": "stream",
     "text": [
      "Frequency: 0.7kHz, CF target: 1000, Vector Strength: 0.5203319633657544\n"
     ]
    },
    {
     "name": "stderr",
     "output_type": "stream",
     "text": []
    },
    {
     "name": "stdout",
     "output_type": "stream",
     "text": [
      "Frequency: 0.8kHz, CF target: 1000, Vector Strength: 0.6645330406916312\n"
     ]
    },
    {
     "name": "stderr",
     "output_type": "stream",
     "text": []
    },
    {
     "name": "stdout",
     "output_type": "stream",
     "text": [
      "Frequency: 0.9kHz, CF target: 1000, Vector Strength: 0.6912457034376096\n"
     ]
    },
    {
     "name": "stderr",
     "output_type": "stream",
     "text": []
    },
    {
     "name": "stdout",
     "output_type": "stream",
     "text": [
      "Frequency: 1.1kHz, CF target: 1000, Vector Strength: 0.6966480953599263\n"
     ]
    },
    {
     "name": "stderr",
     "output_type": "stream",
     "text": []
    },
    {
     "name": "stdout",
     "output_type": "stream",
     "text": [
      "Frequency: 1.2kHz, CF target: 1000, Vector Strength: 0.5629094363015082\n"
     ]
    },
    {
     "name": "stderr",
     "output_type": "stream",
     "text": []
    },
    {
     "name": "stdout",
     "output_type": "stream",
     "text": [
      "Frequency: 1.3kHz, CF target: 1000, Vector Strength: 0.1902738765476149\n"
     ]
    },
    {
     "name": "stderr",
     "output_type": "stream",
     "text": [
      "100%|██████████| 12/12 [06:18<00:00, 31.58s/it]\n",
      " 75%|███████▌  | 6/8 [36:53<12:06, 363.29s/it]"
     ]
    },
    {
     "name": "stdout",
     "output_type": "stream",
     "text": [
      "Frequency: 1.4kHz, CF target: 1000, Vector Strength: 0.28043705655494106\n"
     ]
    },
    {
     "name": "stderr",
     "output_type": "stream",
     "text": []
    },
    {
     "name": "stdout",
     "output_type": "stream",
     "text": [
      "Frequency: 0.1kHz, CF target: 1200, Vector Strength: 0.1792007026865149\n"
     ]
    },
    {
     "name": "stderr",
     "output_type": "stream",
     "text": []
    },
    {
     "name": "stdout",
     "output_type": "stream",
     "text": [
      "Frequency: 0.3kHz, CF target: 1200, Vector Strength: 0.15976368257149984\n"
     ]
    },
    {
     "name": "stderr",
     "output_type": "stream",
     "text": []
    },
    {
     "name": "stdout",
     "output_type": "stream",
     "text": [
      "Frequency: 0.4kHz, CF target: 1200, Vector Strength: 0.13895639308693594\n"
     ]
    },
    {
     "name": "stderr",
     "output_type": "stream",
     "text": []
    },
    {
     "name": "stdout",
     "output_type": "stream",
     "text": [
      "Frequency: 0.5kHz, CF target: 1200, Vector Strength: 0.18228370623254422\n"
     ]
    },
    {
     "name": "stderr",
     "output_type": "stream",
     "text": []
    },
    {
     "name": "stdout",
     "output_type": "stream",
     "text": [
      "Frequency: 0.6kHz, CF target: 1200, Vector Strength: 0.05423113598267382\n"
     ]
    },
    {
     "name": "stderr",
     "output_type": "stream",
     "text": []
    },
    {
     "name": "stdout",
     "output_type": "stream",
     "text": [
      "Frequency: 0.7kHz, CF target: 1200, Vector Strength: 0.23548018762986922\n"
     ]
    },
    {
     "name": "stderr",
     "output_type": "stream",
     "text": []
    },
    {
     "name": "stdout",
     "output_type": "stream",
     "text": [
      "Frequency: 0.8kHz, CF target: 1200, Vector Strength: 0.3661364824842005\n"
     ]
    },
    {
     "name": "stderr",
     "output_type": "stream",
     "text": []
    },
    {
     "name": "stdout",
     "output_type": "stream",
     "text": [
      "Frequency: 0.9kHz, CF target: 1200, Vector Strength: 0.7130721918704619\n"
     ]
    },
    {
     "name": "stderr",
     "output_type": "stream",
     "text": []
    },
    {
     "name": "stdout",
     "output_type": "stream",
     "text": [
      "Frequency: 1.1kHz, CF target: 1200, Vector Strength: 0.6780589573337784\n"
     ]
    },
    {
     "name": "stderr",
     "output_type": "stream",
     "text": []
    },
    {
     "name": "stdout",
     "output_type": "stream",
     "text": [
      "Frequency: 1.2kHz, CF target: 1200, Vector Strength: 0.635274439703853\n"
     ]
    },
    {
     "name": "stderr",
     "output_type": "stream",
     "text": []
    },
    {
     "name": "stdout",
     "output_type": "stream",
     "text": [
      "Frequency: 1.3kHz, CF target: 1200, Vector Strength: 0.7018248869971885\n"
     ]
    },
    {
     "name": "stderr",
     "output_type": "stream",
     "text": [
      "100%|██████████| 12/12 [04:46<00:00, 23.83s/it]\n",
      " 88%|████████▊ | 7/8 [41:39<05:38, 338.03s/it]"
     ]
    },
    {
     "name": "stdout",
     "output_type": "stream",
     "text": [
      "Frequency: 1.4kHz, CF target: 1200, Vector Strength: 0.6392223686120524\n"
     ]
    },
    {
     "name": "stderr",
     "output_type": "stream",
     "text": []
    },
    {
     "name": "stdout",
     "output_type": "stream",
     "text": [
      "Frequency: 0.1kHz, CF target: 1400, Vector Strength: 0.14083402160899136\n"
     ]
    },
    {
     "name": "stderr",
     "output_type": "stream",
     "text": []
    },
    {
     "name": "stdout",
     "output_type": "stream",
     "text": [
      "Frequency: 0.3kHz, CF target: 1400, Vector Strength: 0.09245914293718667\n"
     ]
    },
    {
     "name": "stderr",
     "output_type": "stream",
     "text": []
    },
    {
     "name": "stdout",
     "output_type": "stream",
     "text": [
      "Frequency: 0.4kHz, CF target: 1400, Vector Strength: 0.12688611749222303\n"
     ]
    },
    {
     "name": "stderr",
     "output_type": "stream",
     "text": []
    },
    {
     "name": "stdout",
     "output_type": "stream",
     "text": [
      "Frequency: 0.5kHz, CF target: 1400, Vector Strength: 0.04672248588655196\n"
     ]
    },
    {
     "name": "stderr",
     "output_type": "stream",
     "text": []
    },
    {
     "name": "stdout",
     "output_type": "stream",
     "text": [
      "Frequency: 0.6kHz, CF target: 1400, Vector Strength: 0.24856582494285953\n"
     ]
    },
    {
     "name": "stderr",
     "output_type": "stream",
     "text": []
    },
    {
     "name": "stdout",
     "output_type": "stream",
     "text": [
      "Frequency: 0.7kHz, CF target: 1400, Vector Strength: 0.03833579973940696\n"
     ]
    },
    {
     "name": "stderr",
     "output_type": "stream",
     "text": []
    },
    {
     "name": "stdout",
     "output_type": "stream",
     "text": [
      "Frequency: 0.8kHz, CF target: 1400, Vector Strength: 0.23043766828869355\n"
     ]
    },
    {
     "name": "stderr",
     "output_type": "stream",
     "text": []
    },
    {
     "name": "stdout",
     "output_type": "stream",
     "text": [
      "Frequency: 0.9kHz, CF target: 1400, Vector Strength: 0.43101144768285027\n"
     ]
    },
    {
     "name": "stderr",
     "output_type": "stream",
     "text": []
    },
    {
     "name": "stdout",
     "output_type": "stream",
     "text": [
      "Frequency: 1.1kHz, CF target: 1400, Vector Strength: 0.7525274925034838\n"
     ]
    },
    {
     "name": "stderr",
     "output_type": "stream",
     "text": []
    },
    {
     "name": "stdout",
     "output_type": "stream",
     "text": [
      "Frequency: 1.2kHz, CF target: 1400, Vector Strength: 0.6951808888801817\n"
     ]
    },
    {
     "name": "stderr",
     "output_type": "stream",
     "text": []
    },
    {
     "name": "stdout",
     "output_type": "stream",
     "text": [
      "Frequency: 1.3kHz, CF target: 1400, Vector Strength: 0.6425563640817452\n"
     ]
    },
    {
     "name": "stderr",
     "output_type": "stream",
     "text": [
      "100%|██████████| 12/12 [06:58<00:00, 34.88s/it]\n",
      "100%|██████████| 8/8 [48:38<00:00, 364.80s/it]"
     ]
    },
    {
     "name": "stdout",
     "output_type": "stream",
     "text": [
      "Frequency: 1.4kHz, CF target: 1400, Vector Strength: 0.6769343336148168\n"
     ]
    },
    {
     "name": "stderr",
     "output_type": "stream",
     "text": [
      "\n"
     ]
    }
   ],
   "source": [
    "cfs = [20, 100, 200, 400, 800, 1000, 1200, 1400]\n",
    "tones = [0.1, 0.3, 0.4, 0.5, 0.6, 0.7, 0.8, 0.9, 1.1, 1.2, 1.3, 1.4]\n",
    "vs_data = np.zeros((len(cfs), len(tones))) \n",
    "\n",
    "# Process each frequency\n",
    "for i, cf in enumerate(tqdm(cfs)):\n",
    "    for j, tone in enumerate(tqdm(tones)):\n",
    "    # Create filename\n",
    "        title = f'tone_{tone}kHz_70dB&TanCarney&subject_1.pic'\n",
    "        result_path = result_dir + title\n",
    "    \n",
    "        # Load data once per frequency\n",
    "        with open(result_path, \"rb\") as file:\n",
    "            result = dill.load(file, ignore=True)\n",
    "\n",
    "        vs_data[i, j] = calculate_vector_strength_from_result(result, 0, 'L', 'ANF', cf_target=cf)\n",
    "        print(f\"Frequency: {tone}kHz, CF target: {cf}, Vector Strength: {vs_data[i, j]}\")"
   ]
  },
  {
   "cell_type": "code",
   "execution_count": 7,
   "metadata": {},
   "outputs": [
    {
     "name": "stdout",
     "output_type": "stream",
     "text": [
      "Results saved to: /mnt/c/Users/utente/OneDrive - Politecnico di Milano/work/sl_results/vs_data_8_ANFs_12_tones.pkl\n"
     ]
    }
   ],
   "source": [
    "# Create a structured dictionary with all relevant data\n",
    "results_data = {\n",
    "    'vs_data': vs_data,\n",
    "    'tones_kHz': tones,\n",
    "    'cf_targets': cfs,\n",
    "}\n",
    "\n",
    "# Save with descriptive but shorter filename\n",
    "output_filename = f'vs_data_{len(cfs)}_ANFs_{len(tones)}_tones.pkl'\n",
    "output_path = os.path.join(result_dir, output_filename)\n",
    "with open(output_path, 'wb') as f:\n",
    "    dill.dump(results_data, f)\n",
    "print(f\"Results saved to: {output_path}\")"
   ]
  },
  {
   "cell_type": "code",
   "execution_count": 13,
   "metadata": {},
   "outputs": [
    {
     "data": {
      "image/png": "[encoded data removed]",
      "text/plain": [
       "<Figure size 800x400 with 1 Axes>"
      ]
     },
     "metadata": {},
     "output_type": "display_data"
    }
   ],
   "source": [
    "title = 'vs_data_8_ANFs_12_tones.pkl'\n",
    "result_path = result_dir + title\n",
    "\n",
    "# Load data once per frequency\n",
    "with open(result_path, \"rb\") as file:\n",
    "    result = dill.load(file, ignore=True)\n",
    "\n",
    "fig, ax = plt.subplots(figsize = (8,4))\n",
    "for i, cf in enumerate(cfs):\n",
    "    ax.plot(tones, result['vs_data'][i],'o-', label=f'{cf} kHz')\n",
    "\n",
    "ax.set_xlabel('Tone Frequency (Hz)')\n",
    "ax.set_ylabel('Vector Strength')\n",
    "#ax.set_title('Vector Strength along the cochlea')\n",
    "ax.legend(title = 'ANFs CF', bbox_to_anchor=(1.05, 1), loc='upper left')\n",
    "ax.grid(True, alpha=0.3)\n",
    "fig.tight_layout()"
   ]
  }
 ],
 "metadata": {
  "kernelspec": {
   "display_name": "hears_env",
   "language": "python",
   "name": "python3"
  },
  "language_info": {
   "codemirror_mode": {
    "name": "ipython",
    "version": 3
   },
   "file_extension": ".py",
   "mimetype": "text/x-python",
   "name": "python",
   "nbconvert_exporter": "python",
   "pygments_lexer": "ipython3",
   "version": "3.12.3"
  }
 },
 "nbformat": 4,
 "nbformat_minor": 4
}
