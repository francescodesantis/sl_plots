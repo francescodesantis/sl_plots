{
 "cells": [
  {
   "cell_type": "code",
   "execution_count": 1,
   "metadata": {},
   "outputs": [],
   "source": [
    "%reload_ext autoreload\n",
    "%autoreload 2\n",
    "\n",
    "import numpy as np\n",
    "from upload.upload_sim_res import delete_from_gcs, download_from_gcs, upload_to_gcs, list_blob_names, download_blobs\n",
    "\n",
    "import dill\n",
    "import os\n",
    "from tqdm import tqdm"
   ]
  },
  {
   "cell_type": "code",
   "execution_count": 2,
   "metadata": {},
   "outputs": [
    {
     "name": "stdout",
     "output_type": "stream",
     "text": [
      "0: Name: /home/ubuntu/polithesis/results/angles2rates/clicks_1000_XXdB&TanCarney&subject_1.pic, Size: 2964615493, Updated: 2025-04-14 01:06:28.040000+00:00\n",
      "1: Name: /home/ubuntu/polithesis/results/angles2rates/harmonic_69dB&TanCarney&subject_1.pic, Size: 2940781814, Updated: 2025-04-17 02:59:43.587000+00:00\n",
      "2: Name: /home/ubuntu/polithesis/results/angles2rates/tone_0.1.kHz_70dB&TanCarney&subject_1_no_MSO_inh.pic, Size: 1921929992, Updated: 2025-03-28 13:32:10.891000+00:00\n",
      "3: Name: /home/ubuntu/polithesis/results/angles2rates/tone_0.1.kHz_70dB&TanCarney&subject_2.pic, Size: 1924618088, Updated: 2025-03-26 14:06:21.526000+00:00\n",
      "4: Name: /home/ubuntu/polithesis/results/angles2rates/tone_1.1kHz_70dB&TanCarney&subject_1.pic, Size: 2307892186, Updated: 2025-04-01 06:46:37.329000+00:00\n",
      "5: Name: /home/ubuntu/polithesis/results/angles2rates/tone_1.2kHz_70dB&TanCarney&subject_1.pic, Size: 2248438344, Updated: 2025-04-01 11:08:43.191000+00:00\n",
      "6: Name: /home/ubuntu/polithesis/results/angles2rates/tone_1.3kHz_70dB&TanCarney&subject_1.pic, Size: 2229962490, Updated: 2025-04-01 15:33:48.210000+00:00\n",
      "7: Name: /home/ubuntu/polithesis/results/angles2rates/tone_1.4kHz_70dB&TanCarney&subject_1.pic, Size: 2221971370, Updated: 2025-04-01 20:01:50.112000+00:00\n",
      "8: Name: /home/ubuntu/polithesis/results/angles2rates/tone_1.5kHz_70dB&TanCarney&subject_1.pic, Size: 2261795210, Updated: 2025-04-12 19:49:56.089000+00:00\n",
      "9: Name: /home/ubuntu/polithesis/results/angles2rates/tone_1.kHz_70dB&TanCarney&ild_only.pic, Size: 2865221665, Updated: 2025-03-26 12:01:22.786000+00:00\n",
      "10: Name: /home/ubuntu/polithesis/results/angles2rates/tone_1.kHz_70dB&TanCarney&itd_only.pic, Size: 2890820247, Updated: 2025-03-26 10:18:13.336000+00:00\n",
      "11: Name: /home/ubuntu/polithesis/results/angles2rates/tone_1.kHz_70dB&TanCarney&itd_only_myoga_inv.pic, Size: 2887636787, Updated: 2025-03-28 17:49:44.756000+00:00\n",
      "12: Name: /home/ubuntu/polithesis/results/angles2rates/tone_1.kHz_70dB&TanCarney&itd_only_myoga_null.pic, Size: 2887442087, Updated: 2025-03-28 17:07:47.019000+00:00\n",
      "13: Name: /home/ubuntu/polithesis/results/angles2rates/tone_1.kHz_70dB&TanCarney&itd_only_no_MSO_inh.pic, Size: 3011529149, Updated: 2025-03-28 09:34:12.062000+00:00\n",
      "14: Name: /home/ubuntu/polithesis/results/angles2rates/tone_1.kHz_70dB&TanCarney&subject_1.pic, Size: 2276945398, Updated: 2025-03-28 02:38:23.549000+00:00\n",
      "15: Name: /home/ubuntu/polithesis/results/angles2rates/tone_1.kHz_70dB&TanCarney&subject_1_myoga_inv.pic, Size: 2274566028, Updated: 2025-03-28 16:27:26.025000+00:00\n",
      "16: Name: /home/ubuntu/polithesis/results/angles2rates/tone_1.kHz_70dB&TanCarney&subject_1_myoga_null.pic, Size: 2274940896, Updated: 2025-03-28 15:48:44.646000+00:00\n",
      "17: Name: /home/ubuntu/polithesis/results/angles2rates/tone_1.kHz_70dB&TanCarney&subject_1_no_MSO_inh.pic, Size: 2357304038, Updated: 2025-03-28 02:57:33.818000+00:00\n",
      "18: Name: /home/ubuntu/polithesis/results/angles2rates/tone_1.kHz_70dB&TanCarney&subject_2.pic, Size: 2481880228, Updated: 2025-03-25 16:28:40.032000+00:00\n",
      "19: Name: /home/ubuntu/polithesis/results/angles2rates/tone_1.kHz_70dB&TanCarney&subject_2_no_MSO_inh.pic, Size: 2575721414, Updated: 2025-03-28 03:37:25.036000+00:00\n",
      "20: Name: /home/ubuntu/polithesis/results/angles2rates/tone_10.kHz_70dB&TanCarney&ild_only.pic, Size: 2139249639, Updated: 2025-03-24 17:29:42.201000+00:00\n",
      "21: Name: /home/ubuntu/polithesis/results/angles2rates/tone_10.kHz_70dB&TanCarney&itd_only.pic, Size: 2146538361, Updated: 2025-03-27 17:41:25.569000+00:00\n",
      "22: Name: /home/ubuntu/polithesis/results/angles2rates/tone_10.kHz_70dB&TanCarney&subject_1.pic, Size: 2028576008, Updated: 2025-03-27 09:43:03.665000+00:00\n",
      "23: Name: /home/ubuntu/polithesis/results/angles2rates/tone_10.kHz_70dB&TanCarney&subject_2.pic, Size: 2073687064, Updated: 2025-03-27 17:21:30.178000+00:00\n",
      "24: Name: /home/ubuntu/polithesis/results/angles2rates/tone_100.Hz_70dB&TanCarney&itd_only_myoga_inv.pic, Size: 2075658405, Updated: 2025-03-28 18:10:13.541000+00:00\n",
      "25: Name: /home/ubuntu/polithesis/results/angles2rates/tone_100.Hz_70dB&TanCarney&itd_only_myoga_null.pic, Size: 2077650313, Updated: 2025-03-28 17:28:07.650000+00:00\n",
      "26: Name: /home/ubuntu/polithesis/results/angles2rates/tone_100.Hz_70dB&TanCarney&subject_1_myoga_inv.pic, Size: 1868668798, Updated: 2025-03-28 16:46:48.420000+00:00\n",
      "27: Name: /home/ubuntu/polithesis/results/angles2rates/tone_100.Hz_70dB&TanCarney&subject_1_myoga_null.pic, Size: 1869897026, Updated: 2025-03-28 16:07:44.463000+00:00\n",
      "28: Name: /home/ubuntu/polithesis/results/angles2rates/tone_200.Hz_70dB&TanCarney&subject_1.pic, Size: 3089362404, Updated: 2025-04-11 19:08:42.694000+00:00\n",
      "29: Name: /home/ubuntu/polithesis/results/angles2rates/tone_300.Hz_70dB&TanCarney&subject_1.pic, Size: 2313513650, Updated: 2025-03-31 01:00:07.753000+00:00\n",
      "30: Name: /home/ubuntu/polithesis/results/angles2rates/whitenoise_70dB&TanCarney&subject_1.pic, Size: 3231426530, Updated: 2025-04-12 23:57:56.545000+00:00\n"
     ]
    }
   ],
   "source": [
    "list_blob_names()"
   ]
  },
  {
   "cell_type": "code",
   "execution_count": 3,
   "metadata": {},
   "outputs": [
    {
     "name": "stdout",
     "output_type": "stream",
     "text": [
      "clicks_1000_XXdB&TanCarney&subject_1.pic\n",
      "tone_0.1kHz_70dB&TanCarney&ild_only.pic\n",
      "tone_0.1kHz_70dB&TanCarney&itd_only.pic\n",
      "tone_0.1kHz_70dB&TanCarney&itd_only_myoga_inv.pic\n",
      "tone_0.1kHz_70dB&TanCarney&itd_only_myoga_null.pic\n",
      "tone_0.1kHz_70dB&TanCarney&itd_only_no_MSO_inh.pic\n",
      "tone_0.1kHz_70dB&TanCarney&subject_1.pic\n",
      "tone_0.1kHz_70dB&TanCarney&subject_1_myoga_inv.pic\n",
      "tone_0.1kHz_70dB&TanCarney&subject_1_myoga_null.pic\n",
      "tone_0.1kHz_70dB&TanCarney&subject_1_no_MSO_inh.pic\n",
      "tone_0.1kHz_70dB&TanCarney&subject_2.pic\n",
      "tone_0.2kHz_70dB&TanCarney&subject_1.pic\n",
      "tone_0.2kHz_70dB&TanCarney&subject_1_long.pic\n",
      "tone_0.3kHz_70dB&TanCarney&subject_1.pic\n",
      "tone_0.4kHz_70dB&TanCarney&subject_1.pic\n",
      "tone_0.5kHz_70dB&TanCarney&subject_1.pic\n",
      "tone_0.6kHz_70dB&TanCarney&subject_1.pic\n",
      "tone_0.7kHz_70dB&TanCarney&subject_1.pic\n",
      "tone_0.8kHz_70dB&TanCarney&subject_1.pic\n",
      "tone_0.9kHz_70dB&TanCarney&subject_1.pic\n",
      "tone_1.0kHz_70dB&TanCarney&subject_1.pic\n",
      "tone_1.1kHz_70dB&TanCarney&subject_1.pic\n",
      "tone_1.2kHz_70dB&TanCarney&subject_1.pic\n",
      "tone_1.3kHz_70dB&TanCarney&subject_1.pic\n",
      "tone_1.4kHz_70dB&TanCarney&subject_1.pic\n",
      "tone_1.5kHz_70dB&TanCarney&subject_1.pic\n",
      "tone_1.kHz_70dB&TanCarney&ild_only.pic\n",
      "tone_1.kHz_70dB&TanCarney&itd_only.pic\n",
      "tone_1.kHz_70dB&TanCarney&itd_only_myoga_inv.pic\n",
      "tone_1.kHz_70dB&TanCarney&itd_only_myoga_null.pic\n",
      "tone_1.kHz_70dB&TanCarney&itd_only_no_MSO_inh.pic\n",
      "tone_1.kHz_70dB&TanCarney&subject_1_myoga_inv.pic\n",
      "tone_1.kHz_70dB&TanCarney&subject_1_myoga_null.pic\n",
      "tone_1.kHz_70dB&TanCarney&subject_1_no_MSO_inh.pic\n",
      "tone_1.kHz_70dB&TanCarney&subject_2.pic\n",
      "tone_1.kHz_70dB&TanCarney&subject_2_no_MSO_inh.pic\n",
      "tone_10.0kHz_70dB&TanCarney&subject_1.pic\n",
      "tone_10.kHz_70dB&TanCarney&ild_only.pic\n",
      "tone_10.kHz_70dB&TanCarney&itd_only.pic\n",
      "tone_10.kHz_70dB&TanCarney&subject_2.pic\n",
      "vs_data_100_ANFs_11_tones.pkl\n",
      "vs_data_100_ANFs_4_tones.pkl\n",
      "vs_data_15_ANFs_15_tones.pkl\n",
      "vs_data_8_ANFs_12_tones.pkl\n",
      "whitenoise_70dB&TanCarney&subject_1.pic\n"
     ]
    }
   ],
   "source": [
    "# List directory contents\n",
    "result_dir = '/mnt/c/Users/utente/OneDrive - Politecnico di Milano/work/sl_results/'\n",
    "items = os.listdir(result_dir)\n",
    "for item in items:\n",
    "    print(item) "
   ]
  },
  {
   "cell_type": "code",
   "execution_count": 4,
   "metadata": {},
   "outputs": [
    {
     "name": "stdout",
     "output_type": "stream",
     "text": [
      "<Bucket: sim-results-localization>\n",
      "<Blob: sim-results-localization, /home/ubuntu/polithesis/results/angles2rates/harmonic_69dB&TanCarney&subject_1.pic, None>\n",
      "Downloaded /home/ubuntu/polithesis/results/angles2rates/harmonic_69dB&TanCarney&subject_1.pic to /mnt/c/Users/utente/OneDrive - Politecnico di Milano/work/sl_results/\n"
     ]
    }
   ],
   "source": [
    "download_from_gcs('/home/ubuntu/polithesis/results/angles2rates/harmonic_69dB&TanCarney&subject_1.pic', result_dir)"
   ]
  },
  {
   "cell_type": "code",
   "execution_count": null,
   "metadata": {},
   "outputs": [
    {
     "name": "stdout",
     "output_type": "stream",
     "text": [
      "Downloading 2 blobs from sim-results-localization\n"
     ]
    },
    {
     "name": "stderr",
     "output_type": "stream",
     "text": [
      "  0%|          | 0/2 [00:00<?, ?it/s]"
     ]
    },
    {
     "name": "stdout",
     "output_type": "stream",
     "text": [
      "<Bucket: sim-results-localization>\n",
      "<Blob: sim-results-localization, /home/ubuntu/polithesis/results/angles2rates/tone_200.Hz_70dB&TanCarney&subject_1.pic, None>\n"
     ]
    },
    {
     "name": "stderr",
     "output_type": "stream",
     "text": [
      " 50%|█████     | 1/2 [02:41<02:41, 161.26s/it]"
     ]
    },
    {
     "name": "stdout",
     "output_type": "stream",
     "text": [
      "Downloaded /home/ubuntu/polithesis/results/angles2rates/tone_200.Hz_70dB&TanCarney&subject_1.pic to /mnt/c/Users/utente/OneDrive - Politecnico di Milano/work/sl_results/tone_200.Hz_70dB&TanCarney&subject_1.pic\n",
      "Downloaded blob 1 of 2: tone_200.Hz_70dB&TanCarney&subject_1.pic\n",
      "<Bucket: sim-results-localization>\n",
      "<Blob: sim-results-localization, /home/ubuntu/polithesis/results/angles2rates/tone_300.Hz_70dB&TanCarney&subject_1.pic, None>\n"
     ]
    },
    {
     "name": "stderr",
     "output_type": "stream",
     "text": [
      " 50%|█████     | 1/2 [02:45<02:45, 165.07s/it]\n"
     ]
    },
    {
     "ename": "KeyboardInterrupt",
     "evalue": "",
     "output_type": "error",
     "traceback": [
      "\u001b[31m---------------------------------------------------------------------------\u001b[39m",
      "\u001b[31mKeyboardInterrupt\u001b[39m                         Traceback (most recent call last)",
      "\u001b[36mCell\u001b[39m\u001b[36m \u001b[39m\u001b[32mIn[5]\u001b[39m\u001b[32m, line 2\u001b[39m\n\u001b[32m      1\u001b[39m \u001b[38;5;28;01mfrom\u001b[39;00m\u001b[38;5;250m \u001b[39m\u001b[34;01mupload\u001b[39;00m\u001b[34;01m.\u001b[39;00m\u001b[34;01mupload_sim_res\u001b[39;00m\u001b[38;5;250m \u001b[39m\u001b[38;5;28;01mimport\u001b[39;00m download_blobs\n\u001b[32m----> \u001b[39m\u001b[32m2\u001b[39m \u001b[43mdownload_blobs\u001b[49m\u001b[43m(\u001b[49m\u001b[43msave_dir\u001b[49m\u001b[43m \u001b[49m\u001b[43m=\u001b[49m\u001b[43m \u001b[49m\u001b[43mresult_dir\u001b[49m\u001b[43m,\u001b[49m\u001b[43m \u001b[49m\u001b[43mstart_from\u001b[49m\u001b[43m \u001b[49m\u001b[43m=\u001b[49m\u001b[43m \u001b[49m\u001b[32;43m25\u001b[39;49m\u001b[43m)\u001b[49m\n",
      "\u001b[36mFile \u001b[39m\u001b[32m/mnt/c/Users/utente/Desktop/repos/sound_localization_plots/upload/upload_sim_res.py:37\u001b[39m, in \u001b[36mdownload_blobs\u001b[39m\u001b[34m(blob_names, save_dir, start_from)\u001b[39m\n\u001b[32m     34\u001b[39m     \u001b[38;5;28mprint\u001b[39m(\u001b[33mf\u001b[39m\u001b[33m\"\u001b[39m\u001b[33mDownloading \u001b[39m\u001b[38;5;132;01m{\u001b[39;00m\u001b[38;5;28mlen\u001b[39m(blob_names[start_from:])\u001b[38;5;132;01m}\u001b[39;00m\u001b[33m blobs from \u001b[39m\u001b[38;5;132;01m{\u001b[39;00mbucket_name\u001b[38;5;132;01m}\u001b[39;00m\u001b[33m\"\u001b[39m)\n\u001b[32m     36\u001b[39m \u001b[38;5;28;01mfor\u001b[39;00m i, blob_name \u001b[38;5;129;01min\u001b[39;00m \u001b[38;5;28menumerate\u001b[39m(tqdm(blob_names[start_from:])):\n\u001b[32m---> \u001b[39m\u001b[32m37\u001b[39m     \u001b[43mdownload_from_gcs\u001b[49m\u001b[43m(\u001b[49m\u001b[43mblob_name\u001b[49m\u001b[43m,\u001b[49m\u001b[43m \u001b[49m\u001b[43msave_dir\u001b[49m\u001b[43m \u001b[49m\u001b[43m+\u001b[49m\u001b[43m \u001b[49m\u001b[43mPath\u001b[49m\u001b[43m(\u001b[49m\u001b[43mblob_name\u001b[49m\u001b[43m)\u001b[49m\u001b[43m.\u001b[49m\u001b[43mname\u001b[49m\u001b[43m)\u001b[49m\n\u001b[32m     38\u001b[39m     \u001b[38;5;28mprint\u001b[39m(\u001b[33mf\u001b[39m\u001b[33m\"\u001b[39m\u001b[33mDownloaded blob \u001b[39m\u001b[38;5;132;01m{\u001b[39;00mi+\u001b[32m1\u001b[39m\u001b[38;5;132;01m}\u001b[39;00m\u001b[33m of \u001b[39m\u001b[38;5;132;01m{\u001b[39;00m\u001b[38;5;28mlen\u001b[39m(blob_names[start_from:])\u001b[38;5;132;01m}\u001b[39;00m\u001b[33m: \u001b[39m\u001b[38;5;132;01m{\u001b[39;00mPath(blob_name).name\u001b[38;5;132;01m}\u001b[39;00m\u001b[33m\"\u001b[39m)\n",
      "\u001b[36mFile \u001b[39m\u001b[32m/mnt/c/Users/utente/Desktop/repos/sound_localization_plots/upload/upload_sim_res.py:22\u001b[39m, in \u001b[36mdownload_from_gcs\u001b[39m\u001b[34m(blob_name, save_path)\u001b[39m\n\u001b[32m     20\u001b[39m blob = bucket.blob(blob_name)\n\u001b[32m     21\u001b[39m \u001b[38;5;28mprint\u001b[39m(blob)\n\u001b[32m---> \u001b[39m\u001b[32m22\u001b[39m \u001b[43mblob\u001b[49m\u001b[43m.\u001b[49m\u001b[43mdownload_to_filename\u001b[49m\u001b[43m(\u001b[49m\u001b[38;5;28;43mstr\u001b[39;49m\u001b[43m(\u001b[49m\u001b[43msave_path\u001b[49m\u001b[43m)\u001b[49m\u001b[43m)\u001b[49m\n\u001b[32m     23\u001b[39m \u001b[38;5;28mprint\u001b[39m(\u001b[33mf\u001b[39m\u001b[33m\"\u001b[39m\u001b[33mDownloaded \u001b[39m\u001b[38;5;132;01m{\u001b[39;00mblob_name\u001b[38;5;132;01m}\u001b[39;00m\u001b[33m to \u001b[39m\u001b[38;5;132;01m{\u001b[39;00msave_path\u001b[38;5;132;01m}\u001b[39;00m\u001b[33m\"\u001b[39m)\n",
      "\u001b[36mFile \u001b[39m\u001b[32m/mnt/c/Users/utente/Desktop/repos/hears_env/lib/python3.12/site-packages/google/cloud/storage/blob.py:1376\u001b[39m, in \u001b[36mBlob.download_to_filename\u001b[39m\u001b[34m(self, filename, client, start, end, raw_download, if_etag_match, if_etag_not_match, if_generation_match, if_generation_not_match, if_metageneration_match, if_metageneration_not_match, timeout, checksum, retry)\u001b[39m\n\u001b[32m   1289\u001b[39m \u001b[38;5;250m\u001b[39m\u001b[33;03m\"\"\"Download the contents of this blob into a named file.\u001b[39;00m\n\u001b[32m   1290\u001b[39m \n\u001b[32m   1291\u001b[39m \u001b[33;03mIf :attr:`user_project` is set on the bucket, bills the API request\u001b[39;00m\n\u001b[32m   (...)\u001b[39m\u001b[32m   1373\u001b[39m \u001b[33;03m:raises: :class:`google.cloud.exceptions.NotFound`\u001b[39;00m\n\u001b[32m   1374\u001b[39m \u001b[33;03m\"\"\"\u001b[39;00m\n\u001b[32m   1375\u001b[39m \u001b[38;5;28;01mwith\u001b[39;00m create_trace_span(name=\u001b[33m\"\u001b[39m\u001b[33mStorage.Blob.downloadToFilename\u001b[39m\u001b[33m\"\u001b[39m):\n\u001b[32m-> \u001b[39m\u001b[32m1376\u001b[39m     \u001b[38;5;28;43mself\u001b[39;49m\u001b[43m.\u001b[49m\u001b[43m_handle_filename_and_download\u001b[49m\u001b[43m(\u001b[49m\n\u001b[32m   1377\u001b[39m \u001b[43m        \u001b[49m\u001b[43mfilename\u001b[49m\u001b[43m,\u001b[49m\n\u001b[32m   1378\u001b[39m \u001b[43m        \u001b[49m\u001b[43mclient\u001b[49m\u001b[43m=\u001b[49m\u001b[43mclient\u001b[49m\u001b[43m,\u001b[49m\n\u001b[32m   1379\u001b[39m \u001b[43m        \u001b[49m\u001b[43mstart\u001b[49m\u001b[43m=\u001b[49m\u001b[43mstart\u001b[49m\u001b[43m,\u001b[49m\n\u001b[32m   1380\u001b[39m \u001b[43m        \u001b[49m\u001b[43mend\u001b[49m\u001b[43m=\u001b[49m\u001b[43mend\u001b[49m\u001b[43m,\u001b[49m\n\u001b[32m   1381\u001b[39m \u001b[43m        \u001b[49m\u001b[43mraw_download\u001b[49m\u001b[43m=\u001b[49m\u001b[43mraw_download\u001b[49m\u001b[43m,\u001b[49m\n\u001b[32m   1382\u001b[39m \u001b[43m        \u001b[49m\u001b[43mif_etag_match\u001b[49m\u001b[43m=\u001b[49m\u001b[43mif_etag_match\u001b[49m\u001b[43m,\u001b[49m\n\u001b[32m   1383\u001b[39m \u001b[43m        \u001b[49m\u001b[43mif_etag_not_match\u001b[49m\u001b[43m=\u001b[49m\u001b[43mif_etag_not_match\u001b[49m\u001b[43m,\u001b[49m\n\u001b[32m   1384\u001b[39m \u001b[43m        \u001b[49m\u001b[43mif_generation_match\u001b[49m\u001b[43m=\u001b[49m\u001b[43mif_generation_match\u001b[49m\u001b[43m,\u001b[49m\n\u001b[32m   1385\u001b[39m \u001b[43m        \u001b[49m\u001b[43mif_generation_not_match\u001b[49m\u001b[43m=\u001b[49m\u001b[43mif_generation_not_match\u001b[49m\u001b[43m,\u001b[49m\n\u001b[32m   1386\u001b[39m \u001b[43m        \u001b[49m\u001b[43mif_metageneration_match\u001b[49m\u001b[43m=\u001b[49m\u001b[43mif_metageneration_match\u001b[49m\u001b[43m,\u001b[49m\n\u001b[32m   1387\u001b[39m \u001b[43m        \u001b[49m\u001b[43mif_metageneration_not_match\u001b[49m\u001b[43m=\u001b[49m\u001b[43mif_metageneration_not_match\u001b[49m\u001b[43m,\u001b[49m\n\u001b[32m   1388\u001b[39m \u001b[43m        \u001b[49m\u001b[43mtimeout\u001b[49m\u001b[43m=\u001b[49m\u001b[43mtimeout\u001b[49m\u001b[43m,\u001b[49m\n\u001b[32m   1389\u001b[39m \u001b[43m        \u001b[49m\u001b[43mchecksum\u001b[49m\u001b[43m=\u001b[49m\u001b[43mchecksum\u001b[49m\u001b[43m,\u001b[49m\n\u001b[32m   1390\u001b[39m \u001b[43m        \u001b[49m\u001b[43mretry\u001b[49m\u001b[43m=\u001b[49m\u001b[43mretry\u001b[49m\u001b[43m,\u001b[49m\n\u001b[32m   1391\u001b[39m \u001b[43m    \u001b[49m\u001b[43m)\u001b[49m\n",
      "\u001b[36mFile \u001b[39m\u001b[32m/mnt/c/Users/utente/Desktop/repos/hears_env/lib/python3.12/site-packages/google/cloud/storage/blob.py:1256\u001b[39m, in \u001b[36mBlob._handle_filename_and_download\u001b[39m\u001b[34m(self, filename, *args, **kwargs)\u001b[39m\n\u001b[32m   1254\u001b[39m \u001b[38;5;28;01mtry\u001b[39;00m:\n\u001b[32m   1255\u001b[39m     \u001b[38;5;28;01mwith\u001b[39;00m \u001b[38;5;28mopen\u001b[39m(filename, \u001b[33m\"\u001b[39m\u001b[33mwb\u001b[39m\u001b[33m\"\u001b[39m) \u001b[38;5;28;01mas\u001b[39;00m file_obj:\n\u001b[32m-> \u001b[39m\u001b[32m1256\u001b[39m         \u001b[38;5;28;43mself\u001b[39;49m\u001b[43m.\u001b[49m\u001b[43m_prep_and_do_download\u001b[49m\u001b[43m(\u001b[49m\n\u001b[32m   1257\u001b[39m \u001b[43m            \u001b[49m\u001b[43mfile_obj\u001b[49m\u001b[43m,\u001b[49m\n\u001b[32m   1258\u001b[39m \u001b[43m            \u001b[49m\u001b[43m*\u001b[49m\u001b[43margs\u001b[49m\u001b[43m,\u001b[49m\n\u001b[32m   1259\u001b[39m \u001b[43m            \u001b[49m\u001b[43m*\u001b[49m\u001b[43m*\u001b[49m\u001b[43mkwargs\u001b[49m\u001b[43m,\u001b[49m\n\u001b[32m   1260\u001b[39m \u001b[43m        \u001b[49m\u001b[43m)\u001b[49m\n\u001b[32m   1262\u001b[39m \u001b[38;5;28;01mexcept\u001b[39;00m (DataCorruption, NotFound):\n\u001b[32m   1263\u001b[39m     \u001b[38;5;66;03m# Delete the corrupt or empty downloaded file.\u001b[39;00m\n\u001b[32m   1264\u001b[39m     os.remove(filename)\n",
      "\u001b[36mFile \u001b[39m\u001b[32m/mnt/c/Users/utente/Desktop/repos/hears_env/lib/python3.12/site-packages/google/cloud/storage/blob.py:4341\u001b[39m, in \u001b[36mBlob._prep_and_do_download\u001b[39m\u001b[34m(self, file_obj, client, start, end, raw_download, if_etag_match, if_etag_not_match, if_generation_match, if_generation_not_match, if_metageneration_match, if_metageneration_not_match, timeout, checksum, retry, command)\u001b[39m\n\u001b[32m   4338\u001b[39m transport = client._http\n\u001b[32m   4340\u001b[39m \u001b[38;5;28;01mtry\u001b[39;00m:\n\u001b[32m-> \u001b[39m\u001b[32m4341\u001b[39m     \u001b[38;5;28;43mself\u001b[39;49m\u001b[43m.\u001b[49m\u001b[43m_do_download\u001b[49m\u001b[43m(\u001b[49m\n\u001b[32m   4342\u001b[39m \u001b[43m        \u001b[49m\u001b[43mtransport\u001b[49m\u001b[43m,\u001b[49m\n\u001b[32m   4343\u001b[39m \u001b[43m        \u001b[49m\u001b[43mfile_obj\u001b[49m\u001b[43m,\u001b[49m\n\u001b[32m   4344\u001b[39m \u001b[43m        \u001b[49m\u001b[43mdownload_url\u001b[49m\u001b[43m,\u001b[49m\n\u001b[32m   4345\u001b[39m \u001b[43m        \u001b[49m\u001b[43mheaders\u001b[49m\u001b[43m,\u001b[49m\n\u001b[32m   4346\u001b[39m \u001b[43m        \u001b[49m\u001b[43mstart\u001b[49m\u001b[43m,\u001b[49m\n\u001b[32m   4347\u001b[39m \u001b[43m        \u001b[49m\u001b[43mend\u001b[49m\u001b[43m,\u001b[49m\n\u001b[32m   4348\u001b[39m \u001b[43m        \u001b[49m\u001b[43mraw_download\u001b[49m\u001b[43m,\u001b[49m\n\u001b[32m   4349\u001b[39m \u001b[43m        \u001b[49m\u001b[43mtimeout\u001b[49m\u001b[43m=\u001b[49m\u001b[43mtimeout\u001b[49m\u001b[43m,\u001b[49m\n\u001b[32m   4350\u001b[39m \u001b[43m        \u001b[49m\u001b[43mchecksum\u001b[49m\u001b[43m=\u001b[49m\u001b[43mchecksum\u001b[49m\u001b[43m,\u001b[49m\n\u001b[32m   4351\u001b[39m \u001b[43m        \u001b[49m\u001b[43mretry\u001b[49m\u001b[43m=\u001b[49m\u001b[43mretry\u001b[49m\u001b[43m,\u001b[49m\n\u001b[32m   4352\u001b[39m \u001b[43m    \u001b[49m\u001b[43m)\u001b[49m\n\u001b[32m   4353\u001b[39m \u001b[38;5;28;01mexcept\u001b[39;00m InvalidResponse \u001b[38;5;28;01mas\u001b[39;00m exc:\n\u001b[32m   4354\u001b[39m     _raise_from_invalid_response(exc)\n",
      "\u001b[36mFile \u001b[39m\u001b[32m/mnt/c/Users/utente/Desktop/repos/hears_env/lib/python3.12/site-packages/google/cloud/storage/blob.py:1082\u001b[39m, in \u001b[36mBlob._do_download\u001b[39m\u001b[34m(self, transport, file_obj, download_url, headers, start, end, raw_download, timeout, checksum, retry)\u001b[39m\n\u001b[32m   1068\u001b[39m     download = klass(\n\u001b[32m   1069\u001b[39m         download_url,\n\u001b[32m   1070\u001b[39m         stream=file_obj,\n\u001b[32m   (...)\u001b[39m\u001b[32m   1075\u001b[39m         retry=retry,\n\u001b[32m   1076\u001b[39m     )\n\u001b[32m   1077\u001b[39m     \u001b[38;5;28;01mwith\u001b[39;00m create_trace_span(\n\u001b[32m   1078\u001b[39m         name=\u001b[33mf\u001b[39m\u001b[33m\"\u001b[39m\u001b[33mStorage.\u001b[39m\u001b[38;5;132;01m{\u001b[39;00mdownload_class\u001b[38;5;132;01m}\u001b[39;00m\u001b[33m/consume\u001b[39m\u001b[33m\"\u001b[39m,\n\u001b[32m   1079\u001b[39m         attributes=extra_attributes,\n\u001b[32m   1080\u001b[39m         api_request=args,\n\u001b[32m   1081\u001b[39m     ):\n\u001b[32m-> \u001b[39m\u001b[32m1082\u001b[39m         response = \u001b[43mdownload\u001b[49m\u001b[43m.\u001b[49m\u001b[43mconsume\u001b[49m\u001b[43m(\u001b[49m\u001b[43mtransport\u001b[49m\u001b[43m,\u001b[49m\u001b[43m \u001b[49m\u001b[43mtimeout\u001b[49m\u001b[43m=\u001b[49m\u001b[43mtimeout\u001b[49m\u001b[43m)\u001b[49m\n\u001b[32m   1083\u001b[39m         \u001b[38;5;28mself\u001b[39m._extract_headers_from_download(response)\n\u001b[32m   1084\u001b[39m \u001b[38;5;28;01melse\u001b[39;00m:\n",
      "\u001b[36mFile \u001b[39m\u001b[32m/mnt/c/Users/utente/Desktop/repos/hears_env/lib/python3.12/site-packages/google/cloud/storage/_media/requests/download.py:246\u001b[39m, in \u001b[36mDownload.consume\u001b[39m\u001b[34m(self, transport, timeout)\u001b[39m\n\u001b[32m    242\u001b[39m         \u001b[38;5;28mself\u001b[39m._write_to_stream(result)\n\u001b[32m    244\u001b[39m     \u001b[38;5;28;01mreturn\u001b[39;00m result\n\u001b[32m--> \u001b[39m\u001b[32m246\u001b[39m \u001b[38;5;28;01mreturn\u001b[39;00m \u001b[43m_request_helpers\u001b[49m\u001b[43m.\u001b[49m\u001b[43mwait_and_retry\u001b[49m\u001b[43m(\u001b[49m\u001b[43mretriable_request\u001b[49m\u001b[43m,\u001b[49m\u001b[43m \u001b[49m\u001b[38;5;28;43mself\u001b[39;49m\u001b[43m.\u001b[49m\u001b[43m_retry_strategy\u001b[49m\u001b[43m)\u001b[49m\n",
      "\u001b[36mFile \u001b[39m\u001b[32m/mnt/c/Users/utente/Desktop/repos/hears_env/lib/python3.12/site-packages/google/cloud/storage/_media/requests/_request_helpers.py:107\u001b[39m, in \u001b[36mwait_and_retry\u001b[39m\u001b[34m(func, retry_strategy)\u001b[39m\n\u001b[32m    105\u001b[39m \u001b[38;5;28;01mif\u001b[39;00m retry_strategy:\n\u001b[32m    106\u001b[39m     func = retry_strategy(func)\n\u001b[32m--> \u001b[39m\u001b[32m107\u001b[39m \u001b[38;5;28;01mreturn\u001b[39;00m \u001b[43mfunc\u001b[49m\u001b[43m(\u001b[49m\u001b[43m)\u001b[49m\n",
      "\u001b[36mFile \u001b[39m\u001b[32m/mnt/c/Users/utente/Desktop/repos/hears_env/lib/python3.12/site-packages/google/api_core/retry/retry_unary.py:293\u001b[39m, in \u001b[36mRetry.__call__.<locals>.retry_wrapped_func\u001b[39m\u001b[34m(*args, **kwargs)\u001b[39m\n\u001b[32m    289\u001b[39m target = functools.partial(func, *args, **kwargs)\n\u001b[32m    290\u001b[39m sleep_generator = exponential_sleep_generator(\n\u001b[32m    291\u001b[39m     \u001b[38;5;28mself\u001b[39m._initial, \u001b[38;5;28mself\u001b[39m._maximum, multiplier=\u001b[38;5;28mself\u001b[39m._multiplier\n\u001b[32m    292\u001b[39m )\n\u001b[32m--> \u001b[39m\u001b[32m293\u001b[39m \u001b[38;5;28;01mreturn\u001b[39;00m \u001b[43mretry_target\u001b[49m\u001b[43m(\u001b[49m\n\u001b[32m    294\u001b[39m \u001b[43m    \u001b[49m\u001b[43mtarget\u001b[49m\u001b[43m,\u001b[49m\n\u001b[32m    295\u001b[39m \u001b[43m    \u001b[49m\u001b[38;5;28;43mself\u001b[39;49m\u001b[43m.\u001b[49m\u001b[43m_predicate\u001b[49m\u001b[43m,\u001b[49m\n\u001b[32m    296\u001b[39m \u001b[43m    \u001b[49m\u001b[43msleep_generator\u001b[49m\u001b[43m,\u001b[49m\n\u001b[32m    297\u001b[39m \u001b[43m    \u001b[49m\u001b[43mtimeout\u001b[49m\u001b[43m=\u001b[49m\u001b[38;5;28;43mself\u001b[39;49m\u001b[43m.\u001b[49m\u001b[43m_timeout\u001b[49m\u001b[43m,\u001b[49m\n\u001b[32m    298\u001b[39m \u001b[43m    \u001b[49m\u001b[43mon_error\u001b[49m\u001b[43m=\u001b[49m\u001b[43mon_error\u001b[49m\u001b[43m,\u001b[49m\n\u001b[32m    299\u001b[39m \u001b[43m\u001b[49m\u001b[43m)\u001b[49m\n",
      "\u001b[36mFile \u001b[39m\u001b[32m/mnt/c/Users/utente/Desktop/repos/hears_env/lib/python3.12/site-packages/google/api_core/retry/retry_unary.py:144\u001b[39m, in \u001b[36mretry_target\u001b[39m\u001b[34m(target, predicate, sleep_generator, timeout, on_error, exception_factory, **kwargs)\u001b[39m\n\u001b[32m    142\u001b[39m \u001b[38;5;28;01mfor\u001b[39;00m sleep \u001b[38;5;129;01min\u001b[39;00m sleep_generator:\n\u001b[32m    143\u001b[39m     \u001b[38;5;28;01mtry\u001b[39;00m:\n\u001b[32m--> \u001b[39m\u001b[32m144\u001b[39m         result = \u001b[43mtarget\u001b[49m\u001b[43m(\u001b[49m\u001b[43m)\u001b[49m\n\u001b[32m    145\u001b[39m         \u001b[38;5;28;01mif\u001b[39;00m inspect.isawaitable(result):\n\u001b[32m    146\u001b[39m             warnings.warn(_ASYNC_RETRY_WARNING)\n",
      "\u001b[36mFile \u001b[39m\u001b[32m/mnt/c/Users/utente/Desktop/repos/hears_env/lib/python3.12/site-packages/google/cloud/storage/_media/requests/download.py:242\u001b[39m, in \u001b[36mDownload.consume.<locals>.retriable_request\u001b[39m\u001b[34m()\u001b[39m\n\u001b[32m    239\u001b[39m             \u001b[38;5;28;01mraise\u001b[39;00m \u001b[38;5;167;01mException\u001b[39;00m(msg) \u001b[38;5;28;01mfrom\u001b[39;00m\u001b[38;5;250m \u001b[39m\u001b[34;01mexc\u001b[39;00m\n\u001b[32m    240\u001b[39m         \u001b[38;5;28mself\u001b[39m._bytes_downloaded = \u001b[32m0\u001b[39m\n\u001b[32m--> \u001b[39m\u001b[32m242\u001b[39m     \u001b[38;5;28;43mself\u001b[39;49m\u001b[43m.\u001b[49m\u001b[43m_write_to_stream\u001b[49m\u001b[43m(\u001b[49m\u001b[43mresult\u001b[49m\u001b[43m)\u001b[49m\n\u001b[32m    244\u001b[39m \u001b[38;5;28;01mreturn\u001b[39;00m result\n",
      "\u001b[36mFile \u001b[39m\u001b[32m/mnt/c/Users/utente/Desktop/repos/hears_env/lib/python3.12/site-packages/google/cloud/storage/_media/requests/download.py:133\u001b[39m, in \u001b[36mDownload._write_to_stream\u001b[39m\u001b[34m(self, response)\u001b[39m\n\u001b[32m    129\u001b[39m body_iter = response.iter_content(\n\u001b[32m    130\u001b[39m     chunk_size=_request_helpers._SINGLE_GET_CHUNK_SIZE, decode_unicode=\u001b[38;5;28;01mFalse\u001b[39;00m\n\u001b[32m    131\u001b[39m )\n\u001b[32m    132\u001b[39m \u001b[38;5;28;01mfor\u001b[39;00m chunk \u001b[38;5;129;01min\u001b[39;00m body_iter:\n\u001b[32m--> \u001b[39m\u001b[32m133\u001b[39m     \u001b[38;5;28;43mself\u001b[39;49m\u001b[43m.\u001b[49m\u001b[43m_stream\u001b[49m\u001b[43m.\u001b[49m\u001b[43mwrite\u001b[49m\u001b[43m(\u001b[49m\u001b[43mchunk\u001b[49m\u001b[43m)\u001b[49m\n\u001b[32m    134\u001b[39m     \u001b[38;5;28mself\u001b[39m._bytes_downloaded += \u001b[38;5;28mlen\u001b[39m(chunk)\n\u001b[32m    135\u001b[39m     local_checksum_object.update(chunk)\n",
      "\u001b[31mKeyboardInterrupt\u001b[39m: "
     ]
    }
   ],
   "source": [
    "download_blobs(save_dir = result_dir, start_from = 6)"
   ]
  }
 ],
 "metadata": {
  "kernelspec": {
   "display_name": "(hears_env)",
   "language": "python",
   "name": "hears_env"
  },
  "language_info": {
   "codemirror_mode": {
    "name": "ipython",
    "version": 3
   },
   "file_extension": ".py",
   "mimetype": "text/x-python",
   "name": "python",
   "nbconvert_exporter": "python",
   "pygments_lexer": "ipython3",
   "version": "3.12.3"
  }
 },
 "nbformat": 4,
 "nbformat_minor": 4
}
