{
 "cells": [
  {
   "cell_type": "code",
   "execution_count": 3,
   "metadata": {},
   "outputs": [],
   "source": [
    "%reload_ext autoreload\n",
    "%autoreload 2\n",
    "\n",
    "import numpy as np\n",
    "from upload.upload_sim_res import delete_from_gcs, download_from_gcs, upload_to_gcs, list_blob_names, download_blobs\n",
    "\n",
    "import dill\n",
    "import os\n",
    "from tqdm import tqdm"
   ]
  },
  {
   "cell_type": "code",
   "execution_count": 24,
   "metadata": {},
   "outputs": [
    {
     "name": "stdout",
     "output_type": "stream",
     "text": [
      "0: Name: /home/ubuntu/polithesis/results/angles2rates/DOUBLEEXC2LSO_tone_10.kHz_70dB&TanCarney&subject_1.pic, Size: 447351722, Updated: 2025-04-22 15:42:20.500000+00:00\n",
      "1: Name: /home/ubuntu/polithesis/results/angles2rates/DOUBLEEXC2LSO_tone_300.Hz_70dB&TanCarney&subject_1.pic, Size: 538347161, Updated: 2025-04-22 15:44:16.263000+00:00\n",
      "2: Name: /home/ubuntu/polithesis/results/angles2rates/clicks_1000_XXdB&TanCarney&subject_1.pic, Size: 2964615493, Updated: 2025-04-14 01:06:28.040000+00:00\n",
      "3: Name: /home/ubuntu/polithesis/results/angles2rates/harmonic_69dB&TanCarney&subject_1.pic, Size: 2940781814, Updated: 2025-04-17 02:59:43.587000+00:00\n",
      "4: Name: /home/ubuntu/polithesis/results/angles2rates/tone_0.1.kHz_70dB&TanCarney&subject_1_no_MSO_inh.pic, Size: 1921929992, Updated: 2025-03-28 13:32:10.891000+00:00\n",
      "5: Name: /home/ubuntu/polithesis/results/angles2rates/tone_0.1.kHz_70dB&TanCarney&subject_2.pic, Size: 1924618088, Updated: 2025-03-26 14:06:21.526000+00:00\n",
      "6: Name: /home/ubuntu/polithesis/results/angles2rates/tone_1.1kHz_70dB&TanCarney&subject_1.pic, Size: 2307892186, Updated: 2025-04-01 06:46:37.329000+00:00\n",
      "7: Name: /home/ubuntu/polithesis/results/angles2rates/tone_1.2kHz_70dB&TanCarney&subject_1.pic, Size: 2248438344, Updated: 2025-04-01 11:08:43.191000+00:00\n",
      "8: Name: /home/ubuntu/polithesis/results/angles2rates/tone_1.3kHz_70dB&TanCarney&subject_1.pic, Size: 2229962490, Updated: 2025-04-01 15:33:48.210000+00:00\n",
      "9: Name: /home/ubuntu/polithesis/results/angles2rates/tone_1.4kHz_70dB&TanCarney&subject_1.pic, Size: 2221971370, Updated: 2025-04-01 20:01:50.112000+00:00\n",
      "10: Name: /home/ubuntu/polithesis/results/angles2rates/tone_1.5kHz_70dB&TanCarney&subject_1.pic, Size: 2261795210, Updated: 2025-04-12 19:49:56.089000+00:00\n",
      "11: Name: /home/ubuntu/polithesis/results/angles2rates/tone_1.kHz_70dB&TanCarney&ild_only.pic, Size: 2865221665, Updated: 2025-03-26 12:01:22.786000+00:00\n",
      "12: Name: /home/ubuntu/polithesis/results/angles2rates/tone_1.kHz_70dB&TanCarney&itd_only.pic, Size: 2890820247, Updated: 2025-03-26 10:18:13.336000+00:00\n",
      "13: Name: /home/ubuntu/polithesis/results/angles2rates/tone_1.kHz_70dB&TanCarney&itd_only_myoga_inv.pic, Size: 2887636787, Updated: 2025-03-28 17:49:44.756000+00:00\n",
      "14: Name: /home/ubuntu/polithesis/results/angles2rates/tone_1.kHz_70dB&TanCarney&itd_only_myoga_null.pic, Size: 2887442087, Updated: 2025-03-28 17:07:47.019000+00:00\n",
      "15: Name: /home/ubuntu/polithesis/results/angles2rates/tone_1.kHz_70dB&TanCarney&itd_only_no_MSO_inh.pic, Size: 3011529149, Updated: 2025-03-28 09:34:12.062000+00:00\n",
      "16: Name: /home/ubuntu/polithesis/results/angles2rates/tone_1.kHz_70dB&TanCarney&subject_1.pic, Size: 2276945398, Updated: 2025-03-28 02:38:23.549000+00:00\n",
      "17: Name: /home/ubuntu/polithesis/results/angles2rates/tone_1.kHz_70dB&TanCarney&subject_1_myoga_inv.pic, Size: 2274566028, Updated: 2025-03-28 16:27:26.025000+00:00\n",
      "18: Name: /home/ubuntu/polithesis/results/angles2rates/tone_1.kHz_70dB&TanCarney&subject_1_myoga_null.pic, Size: 2274940896, Updated: 2025-03-28 15:48:44.646000+00:00\n",
      "19: Name: /home/ubuntu/polithesis/results/angles2rates/tone_1.kHz_70dB&TanCarney&subject_1_no_MSO_inh.pic, Size: 2357304038, Updated: 2025-03-28 02:57:33.818000+00:00\n",
      "20: Name: /home/ubuntu/polithesis/results/angles2rates/tone_1.kHz_70dB&TanCarney&subject_2.pic, Size: 2481880228, Updated: 2025-03-25 16:28:40.032000+00:00\n",
      "21: Name: /home/ubuntu/polithesis/results/angles2rates/tone_1.kHz_70dB&TanCarney&subject_2_no_MSO_inh.pic, Size: 2575721414, Updated: 2025-03-28 03:37:25.036000+00:00\n",
      "22: Name: /home/ubuntu/polithesis/results/angles2rates/tone_10.kHz_70dB&TanCarney&ild_only.pic, Size: 2139249639, Updated: 2025-03-24 17:29:42.201000+00:00\n",
      "23: Name: /home/ubuntu/polithesis/results/angles2rates/tone_10.kHz_70dB&TanCarney&itd_only.pic, Size: 2146538361, Updated: 2025-03-27 17:41:25.569000+00:00\n",
      "24: Name: /home/ubuntu/polithesis/results/angles2rates/tone_10.kHz_70dB&TanCarney&subject_1.pic, Size: 2028576008, Updated: 2025-03-27 09:43:03.665000+00:00\n",
      "25: Name: /home/ubuntu/polithesis/results/angles2rates/tone_10.kHz_70dB&TanCarney&subject_2.pic, Size: 2073687064, Updated: 2025-03-27 17:21:30.178000+00:00\n",
      "26: Name: /home/ubuntu/polithesis/results/angles2rates/tone_100.Hz_70dB&TanCarney&itd_only_myoga_inv.pic, Size: 2075658405, Updated: 2025-03-28 18:10:13.541000+00:00\n",
      "27: Name: /home/ubuntu/polithesis/results/angles2rates/tone_100.Hz_70dB&TanCarney&itd_only_myoga_null.pic, Size: 2077650313, Updated: 2025-03-28 17:28:07.650000+00:00\n",
      "28: Name: /home/ubuntu/polithesis/results/angles2rates/tone_100.Hz_70dB&TanCarney&subject_1_myoga_inv.pic, Size: 1868668798, Updated: 2025-03-28 16:46:48.420000+00:00\n",
      "29: Name: /home/ubuntu/polithesis/results/angles2rates/tone_100.Hz_70dB&TanCarney&subject_1_myoga_null.pic, Size: 1869897026, Updated: 2025-03-28 16:07:44.463000+00:00\n",
      "30: Name: /home/ubuntu/polithesis/results/angles2rates/tone_200.Hz_70dB&TanCarney&subject_1.pic, Size: 3089362404, Updated: 2025-04-11 19:08:42.694000+00:00\n",
      "31: Name: /home/ubuntu/polithesis/results/angles2rates/tone_300.Hz_70dB&TanCarney&subject_1.pic, Size: 2313513650, Updated: 2025-03-31 01:00:07.753000+00:00\n",
      "32: Name: /home/ubuntu/polithesis/results/angles2rates/whitenoise_70dB&TanCarney&itd_only.pic, Size: 3663722557, Updated: 2025-04-23 09:44:46.410000+00:00\n",
      "33: Name: /home/ubuntu/polithesis/results/angles2rates/whitenoise_70dB&TanCarney&subject_1.pic, Size: 3231426530, Updated: 2025-04-12 23:57:56.545000+00:00\n",
      "34: Name: /home/ubuntu/polithesis/results/sbc2lso8/tone_1.kHz_70dB&TanCarney&subject_1.pic, Size: 2286502748, Updated: 2025-05-05 12:44:05.514000+00:00\n",
      "35: Name: /home/ubuntu/polithesis/results/sbc2lso8/tone_100.Hz_70dB&TanCarney&subject_1.pic, Size: 1883850108, Updated: 2025-05-05 08:36:39.325000+00:00\n"
     ]
    }
   ],
   "source": [
    "list_blob_names()"
   ]
  },
  {
   "cell_type": "code",
   "execution_count": 23,
   "metadata": {},
   "outputs": [
    {
     "name": "stdout",
     "output_type": "stream",
     "text": [
      "clicks_1000_XXdB&TanCarney&subject_1.pic\n",
      "DOUBLEEXC2LSO_tone_10.kHz_70dB&TanCarney&subject_1.pic\n",
      "DOUBLEEXC2LSO_tone_300.Hz_70dB&TanCarney&subject_1.pic\n",
      "harmonic_69dB&TanCarney&subject_1.pic\n",
      "tone_0.1kHz_70dB&TanCarney&ild_only.pic\n",
      "tone_0.1kHz_70dB&TanCarney&itd_only.pic\n",
      "tone_0.1kHz_70dB&TanCarney&itd_only_myoga_inv.pic\n",
      "tone_0.1kHz_70dB&TanCarney&itd_only_myoga_null.pic\n",
      "tone_0.1kHz_70dB&TanCarney&itd_only_no_MSO_inh.pic\n",
      "tone_0.1kHz_70dB&TanCarney&subject_1.pic\n",
      "tone_0.1kHz_70dB&TanCarney&subject_1_myoga_inv.pic\n",
      "tone_0.1kHz_70dB&TanCarney&subject_1_myoga_null.pic\n",
      "tone_0.1kHz_70dB&TanCarney&subject_1_no_MSO_inh.pic\n",
      "tone_0.1kHz_70dB&TanCarney&subject_2.pic\n",
      "tone_0.2kHz_70dB&TanCarney&subject_1.pic\n",
      "tone_0.2kHz_70dB&TanCarney&subject_1_long.pic\n",
      "tone_0.3kHz_70dB&TanCarney&subject_1.pic\n",
      "tone_0.4kHz_70dB&TanCarney&subject_1.pic\n",
      "tone_0.5kHz_70dB&TanCarney&subject_1.pic\n",
      "tone_0.6kHz_70dB&TanCarney&subject_1.pic\n",
      "tone_0.7kHz_70dB&TanCarney&subject_1.pic\n",
      "tone_0.8kHz_70dB&TanCarney&subject_1.pic\n",
      "tone_0.9kHz_70dB&TanCarney&subject_1.pic\n",
      "tone_1.1kHz_70dB&TanCarney&subject_1.pic\n",
      "tone_1.2kHz_70dB&TanCarney&subject_1.pic\n",
      "tone_1.3kHz_70dB&TanCarney&subject_1.pic\n",
      "tone_1.4kHz_70dB&TanCarney&subject_1.pic\n",
      "tone_1.5kHz_70dB&TanCarney&subject_1.pic\n",
      "tone_1.kHz_70dB&TanCarney&ild_only.pic\n",
      "tone_1.kHz_70dB&TanCarney&itd_only.pic\n",
      "tone_1.kHz_70dB&TanCarney&itd_only_myoga_inv.pic\n",
      "tone_1.kHz_70dB&TanCarney&itd_only_myoga_null.pic\n",
      "tone_1.kHz_70dB&TanCarney&itd_only_no_MSO_inh.pic\n",
      "tone_1.kHz_70dB&TanCarney&subject_1.pic\n",
      "tone_1.kHz_70dB&TanCarney&subject_1_myoga_inv.pic\n",
      "tone_1.kHz_70dB&TanCarney&subject_1_myoga_null.pic\n",
      "tone_1.kHz_70dB&TanCarney&subject_1_no_MSO_inh.pic\n",
      "tone_1.kHz_70dB&TanCarney&subject_2.pic\n",
      "tone_1.kHz_70dB&TanCarney&subject_2_no_MSO_inh.pic\n",
      "tone_10.kHz_70dB&TanCarney&ild_only.pic\n",
      "tone_10.kHz_70dB&TanCarney&itd_only.pic\n",
      "tone_10.kHz_70dB&TanCarney&subject_1.pic\n",
      "tone_10.kHz_70dB&TanCarney&subject_2.pic\n",
      "tone_100.Hz_70dB&TanCarney&subject_1.pic\n",
      "vs_data_100_ANFs_11_tones.pkl\n",
      "vs_data_100_ANFs_4_tones.pkl\n",
      "vs_data_15_ANFs_15_tones.pkl\n",
      "vs_data_8_ANFs_12_tones.pkl\n",
      "whitenoise_70dB&TanCarney&itd_only.pic\n",
      "whitenoise_70dB&TanCarney&subject_1.pic\n"
     ]
    }
   ],
   "source": [
    "# List directory contents\n",
    "result_dir = '/mnt/c/Users/utente/OneDrive - Politecnico di Milano/work/sound_localization/sl_results/'\n",
    "items = os.listdir(result_dir)\n",
    "for item in items:\n",
    "    print(item) "
   ]
  },
  {
   "cell_type": "code",
   "execution_count": null,
   "metadata": {},
   "outputs": [
    {
     "name": "stdout",
     "output_type": "stream",
     "text": [
      "<Bucket: sim-results-localization>\n",
      "<Blob: sim-results-localization, /home/ubuntu/polithesis/results/sbc2lso8/tone_100.Hz_70dB&TanCarney&itd_only.pic, None>\n"
     ]
    }
   ],
   "source": [
    "download_from_gcs('/home/ubuntu/polithesis/results/sbc2lso8/tone_100.Hz_70dB&TanCarney&itd_only.pic', result_dir)"
   ]
  },
  {
   "cell_type": "code",
   "execution_count": 5,
   "metadata": {},
   "outputs": [
    {
     "name": "stdout",
     "output_type": "stream",
     "text": [
      "Downloading 2 blobs from sim-results-localization\n"
     ]
    },
    {
     "name": "stderr",
     "output_type": "stream",
     "text": [
      "  0%|          | 0/2 [00:00<?, ?it/s]"
     ]
    },
    {
     "name": "stdout",
     "output_type": "stream",
     "text": [
      "<Bucket: sim-results-localization>\n",
      "<Blob: sim-results-localization, /home/ubuntu/polithesis/results/angles2rates/whitenoise_70dB&TanCarney&itd_only.pic, None>\n"
     ]
    },
    {
     "name": "stderr",
     "output_type": "stream",
     "text": [
      " 50%|█████     | 1/2 [05:15<05:15, 315.87s/it]"
     ]
    },
    {
     "name": "stdout",
     "output_type": "stream",
     "text": [
      "Downloaded /home/ubuntu/polithesis/results/angles2rates/whitenoise_70dB&TanCarney&itd_only.pic to /mnt/c/Users/utente/OneDrive - Politecnico di Milano/work/sl_results/\n",
      "Downloaded blob 1 of 2: whitenoise_70dB&TanCarney&itd_only.pic\n",
      "<Bucket: sim-results-localization>\n",
      "<Blob: sim-results-localization, /home/ubuntu/polithesis/results/angles2rates/whitenoise_70dB&TanCarney&subject_1.pic, None>\n"
     ]
    },
    {
     "name": "stderr",
     "output_type": "stream",
     "text": [
      "100%|██████████| 2/2 [09:50<00:00, 295.42s/it]"
     ]
    },
    {
     "name": "stdout",
     "output_type": "stream",
     "text": [
      "Downloaded /home/ubuntu/polithesis/results/angles2rates/whitenoise_70dB&TanCarney&subject_1.pic to /mnt/c/Users/utente/OneDrive - Politecnico di Milano/work/sl_results/\n",
      "Downloaded blob 2 of 2: whitenoise_70dB&TanCarney&subject_1.pic\n"
     ]
    },
    {
     "name": "stderr",
     "output_type": "stream",
     "text": [
      "\n"
     ]
    }
   ],
   "source": [
    "download_blobs(save_dir = result_dir, start_from = 32)"
   ]
  },
  {
   "cell_type": "code",
   "execution_count": null,
   "metadata": {},
   "outputs": [],
   "source": []
  }
 ],
 "metadata": {
  "kernelspec": {
   "display_name": "hears_env_linux",
   "language": "python",
   "name": "python3"
  },
  "language_info": {
   "codemirror_mode": {
    "name": "ipython",
    "version": 3
   },
   "file_extension": ".py",
   "mimetype": "text/x-python",
   "name": "python",
   "nbconvert_exporter": "python",
   "pygments_lexer": "ipython3",
   "version": "3.12.3"
  }
 },
 "nbformat": 4,
 "nbformat_minor": 4
}
