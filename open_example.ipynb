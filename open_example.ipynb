{
 "cells": [
  {
   "cell_type": "code",
   "execution_count": 1,
   "id": "874216f0",
   "metadata": {},
   "outputs": [],
   "source": [
    "%reload_ext autoreload\n",
    "%autoreload 2\n",
    "\n",
    "import matplotlib.pyplot as plt\n",
    "import numpy as np\n",
    "import dill\n",
    "from tqdm import tqdm\n",
    "import sys\n",
    "import os\n",
    "\n",
    "# Get the current working directory\n",
    "current_dir = os.getcwd()\n",
    "# Add the parent directory to sys.path\n",
    "sys.path.append(os.path.dirname(current_dir))"
   ]
  },
  {
   "cell_type": "code",
   "execution_count": 2,
   "id": "1f3384ce",
   "metadata": {},
   "outputs": [
    {
     "name": "stdout",
     "output_type": "stream",
     "text": [
      "clicks_1000_XXdB&TanCarney&subject_1.pic\n",
      "DOUBLEEXC2LSO_tone_10.kHz_70dB&TanCarney&subject_1.pic\n",
      "DOUBLEEXC2LSO_tone_300.Hz_70dB&TanCarney&subject_1.pic\n",
      "harmonic_69dB&TanCarney&subject_1.pic\n",
      "tone_0.1kHz_70dB&TanCarney&ild_only.pic\n",
      "tone_0.1kHz_70dB&TanCarney&itd_only.pic\n",
      "tone_0.1kHz_70dB&TanCarney&itd_only_myoga_inv.pic\n",
      "tone_0.1kHz_70dB&TanCarney&itd_only_myoga_null.pic\n",
      "tone_0.1kHz_70dB&TanCarney&itd_only_no_MSO_inh.pic\n",
      "tone_0.1kHz_70dB&TanCarney&subject_1.pic\n",
      "tone_0.1kHz_70dB&TanCarney&subject_1_myoga_inv.pic\n",
      "tone_0.1kHz_70dB&TanCarney&subject_1_myoga_null.pic\n",
      "tone_0.1kHz_70dB&TanCarney&subject_1_no_MSO_inh.pic\n",
      "tone_0.1kHz_70dB&TanCarney&subject_2.pic\n",
      "tone_0.2kHz_70dB&TanCarney&subject_1.pic\n",
      "tone_0.2kHz_70dB&TanCarney&subject_1_long.pic\n",
      "tone_0.3kHz_70dB&TanCarney&subject_1.pic\n",
      "tone_0.4kHz_70dB&TanCarney&subject_1.pic\n",
      "tone_0.5kHz_70dB&TanCarney&subject_1.pic\n",
      "tone_0.6kHz_70dB&TanCarney&subject_1.pic\n",
      "tone_0.7kHz_70dB&TanCarney&subject_1.pic\n",
      "tone_0.8kHz_70dB&TanCarney&subject_1.pic\n",
      "tone_0.9kHz_70dB&TanCarney&subject_1.pic\n",
      "tone_1.1kHz_70dB&TanCarney&subject_1.pic\n",
      "tone_1.2kHz_70dB&TanCarney&subject_1.pic\n",
      "tone_1.3kHz_70dB&TanCarney&subject_1.pic\n",
      "tone_1.4kHz_70dB&TanCarney&subject_1.pic\n",
      "tone_1.5kHz_70dB&TanCarney&subject_1.pic\n",
      "tone_1.kHz_70dB&TanCarney&ild_only.pic\n",
      "tone_1.kHz_70dB&TanCarney&itd_only.pic\n",
      "tone_1.kHz_70dB&TanCarney&itd_only_myoga_inv.pic\n",
      "tone_1.kHz_70dB&TanCarney&itd_only_myoga_null.pic\n",
      "tone_1.kHz_70dB&TanCarney&itd_only_no_MSO_inh.pic\n",
      "tone_1.kHz_70dB&TanCarney&subject_1.pic\n",
      "tone_1.kHz_70dB&TanCarney&subject_1_myoga_inv.pic\n",
      "tone_1.kHz_70dB&TanCarney&subject_1_myoga_null.pic\n",
      "tone_1.kHz_70dB&TanCarney&subject_1_no_MSO_inh.pic\n",
      "tone_1.kHz_70dB&TanCarney&subject_2.pic\n",
      "tone_1.kHz_70dB&TanCarney&subject_2_no_MSO_inh.pic\n",
      "tone_10.kHz_70dB&TanCarney&ild_only.pic\n",
      "tone_10.kHz_70dB&TanCarney&itd_only.pic\n",
      "tone_10.kHz_70dB&TanCarney&subject_1.pic\n",
      "tone_10.kHz_70dB&TanCarney&subject_2.pic\n",
      "vs_data_100_ANFs_11_tones.pkl\n",
      "vs_data_100_ANFs_4_tones.pkl\n",
      "vs_data_15_ANFs_15_tones.pkl\n",
      "vs_data_8_ANFs_12_tones.pkl\n",
      "whitenoise_70dB&TanCarney&itd_only.pic\n",
      "whitenoise_70dB&TanCarney&subject_1.pic\n"
     ]
    }
   ],
   "source": [
    "# List directory contents\n",
    "result_dir = '/mnt/c/Users/utente/OneDrive - Politecnico di Milano/work/sound_localization/sl_results/'\n",
    "items = os.listdir(result_dir)\n",
    "for item in items:\n",
    "    print(item) \n"
   ]
  },
  {
   "cell_type": "code",
   "execution_count": 3,
   "id": "c6773747",
   "metadata": {},
   "outputs": [
    {
     "name": "stderr",
     "output_type": "stream",
     "text": [
      "/home/utente/sl_plots/hears_env_linux/lib/python3.12/site-packages/setuptools/_distutils/_msvccompiler.py:12: UserWarning: _get_vc_env is private; find an alternative (pypa/distutils#340)\n",
      "  warnings.warn(\n"
     ]
    }
   ],
   "source": [
    "result_path = result_dir + 'DOUBLEEXC2LSO_tone_10.kHz_70dB&TanCarney&subject_1.pic'\n",
    "\n",
    "with open(result_path, \"rb\") as file:\n",
    "    result = dill.load(file, ignore=True)"
   ]
  },
  {
   "cell_type": "code",
   "execution_count": 4,
   "id": "fe464c19",
   "metadata": {},
   "outputs": [
    {
     "data": {
      "text/plain": [
       "{'parameters': {'key': 'subject_1',\n",
       "  'cochlea': {'gammatone': {'hrtf_params': {'subj_number': 1,\n",
       "     'ild_only': False,\n",
       "     'itd_remove_strategy': 'computed'},\n",
       "    'noise_factor': 0.3,\n",
       "    'refractory_period': 1,\n",
       "    'amplif_factor': 7},\n",
       "   'ppg': {'nest': {'resolution': 0.1,\n",
       "     'rng_seed': 42,\n",
       "     'total_num_virtual_procs': 16}},\n",
       "   'TanCarney': {'hrtf_params': {'subj_number': 1,\n",
       "     'itd_remove_strategy': 'estimate_from_hrtf'},\n",
       "    'cochlea_params': None,\n",
       "    'rng_seed': 42,\n",
       "    'omni_noise_level': 0}},\n",
       "  'n_ANFs': 35000,\n",
       "  'SBCs2MSOs': 5,\n",
       "  'SBCs2LSOs': 5,\n",
       "  'n_SBCs': 8750,\n",
       "  'n_GBCs': 1750,\n",
       "  'n_MSOs': 1750,\n",
       "  'n_LSOs': 1750,\n",
       "  'n_inhMSOs': 1750,\n",
       "  'V_m': -70,\n",
       "  'V_reset': -70,\n",
       "  'CONFIG': {'STORE_POPS': set(),\n",
       "   'NEST_KERNEL_PARAMS': {'resolution': 0.1,\n",
       "    'rng_seed': 42,\n",
       "    'total_num_virtual_procs': 16}},\n",
       "  'DELAYS': {'GBCs2MNTBCs': 0.45,\n",
       "   'GBCs2LNTBCs': 0.45,\n",
       "   'SBCs2MSO_exc_ipsi': 2,\n",
       "   'SBCs2MSO_exc_contra': 2,\n",
       "   '_DELTA_IPSI': 0.2,\n",
       "   '_DELTA_CONTRA': -0.4},\n",
       "  'SYN_WEIGHTS': {'ANFs2SBCs': 35.0,\n",
       "   'ANFs2GBCs': 7.0,\n",
       "   'GBCs2LNTBCs': 20.0,\n",
       "   'GBCs2MNTBCs': 30.0,\n",
       "   'SBCs2LSO': 10,\n",
       "   'MNTBCs2LSO': -20.0,\n",
       "   'MNTBCs2MSO': -40.0,\n",
       "   'LNTBCs2MSO': -40.0,\n",
       "   'SBCs2MSO': 9.0},\n",
       "  'POP_CONN': {'ANFs2SBCs': 4, 'ANFs2GBCs': 20},\n",
       "  'MSO_TAUS': {'rise_ex': 0.2,\n",
       "   'rise_in': 0.2,\n",
       "   'decay_ex': 0.5,\n",
       "   'decay_in': 1.5},\n",
       "  'MEMB_CAPS': {'SBC': 15,\n",
       "   'GBC': 15,\n",
       "   'MNTBC': 15,\n",
       "   'LNTBC': 15,\n",
       "   'MSO': 20,\n",
       "   'LSO': 30},\n",
       "  'G_LEAK': {'SBC': 40,\n",
       "   'GBC': 25,\n",
       "   'LNTBC': 25,\n",
       "   'MNTBC': 25,\n",
       "   'MSO': 80,\n",
       "   'LSO': 20}},\n",
       " 'paths': {'DATA_DIR': '../data/',\n",
       "  'IRCAM_DIR': '../data/IRCAM/',\n",
       "  'SOFA_DIR': '../data/SOFA/',\n",
       "  'ANF_SPIKES_DIR': '../data/ANF_SPIKETRAINS/',\n",
       "  'RESULTS_DIR': '../results/'},\n",
       " 'model_desc': {'name': 'Brainstem Model',\n",
       "  'networkdef': '    def create_network(self, P: Parameters, anfs_per_ear):\\n        self.pops = {\"L\": {}, \"R\": {}}\\n        self.recs = {\"L\": {}, \"R\": {}}\\n\\n        for side in [\"L\", \"R\"]:\\n            self.pops[side][\"ANF\"] = anfs_per_ear[side]\\n            self.pops[side][\"parrot_ANF\"] = nest.Create(\\n                \"parrot_neuron\", len(self.pops[side][\"ANF\"])\\n            )\\n            self.pops[side][\"SBC\"] = nest.Create(\\n                \"iaf_cond_alpha\",\\n                P.n_SBCs,\\n                params={\\n                    \"C_m\": P.MEMB_CAPS.SBC,\\n                    \"V_reset\": P.V_reset,\\n                    \"g_L\": P.G_LEAK.SBC,\\n                    # \"t_ref\": 3,\\n                },\\n            )\\n            self.pops[side][\"GBC\"] = nest.Create(\\n                \"iaf_cond_alpha\",\\n                P.n_GBCs,\\n                params={\\n                    \"C_m\": P.MEMB_CAPS.GBC,\\n                    \"V_reset\": P.V_reset,\\n                    \"g_L\": P.G_LEAK.GBC,\\n                    # \"t_ref\": 3,\\n                },\\n            )\\n            self.pops[side][\"LNTBC\"] = nest.Create(\\n                \"iaf_cond_alpha\",\\n                P.n_GBCs,\\n                params={\\n                    \"C_m\": P.MEMB_CAPS.LNTBC,\\n                    \"V_reset\": P.V_reset,\\n                    \"g_L\": P.G_LEAK.LNTBC,\\n                },\\n            )\\n            self.pops[side][\"MNTBC\"] = nest.Create(\\n                \"iaf_cond_alpha\",\\n                P.n_GBCs,\\n                params={\\n                    \"C_m\": P.MEMB_CAPS.MNTBC,\\n                    \"V_reset\": P.V_reset,\\n                    \"g_L\": P.G_LEAK.MNTBC,\\n                },\\n            )\\n            self.pops[side][\"MSO\"] = nest.Create(\\n                \"iaf_cond_beta\",\\n                P.n_MSOs,\\n                params={\\n                    \"C_m\": P.MEMB_CAPS.MSO,\\n                    \"tau_rise_ex\": P.MSO_TAUS.rise_ex,\\n                    \"tau_rise_in\": P.MSO_TAUS.rise_in,\\n                    \"tau_decay_ex\": P.MSO_TAUS.decay_ex,\\n                    \"tau_decay_in\": P.MSO_TAUS.decay_in,\\n                    \"V_reset\": P.V_reset,\\n                    \"g_L\": P.G_LEAK.MSO,\\n                },\\n            )\\n            self.pops[side][\"LSO\"] = nest.Create(\\n                \"iaf_cond_alpha\",\\n                P.n_LSOs,\\n                params={\\n                    \"C_m\": P.MEMB_CAPS.LSO,\\n                    \"V_m\": P.V_m,\\n                    \"V_reset\": P.V_reset,\\n                    \"g_L\": P.G_LEAK.LSO,\\n                },\\n            )\\n            \\n        for side in [\"L\", \"R\"]:\\n            for pop in self.pops[side].keys():\\n                self.recs[side][pop] = nest.Create(\"spike_recorder\")\\n                connect(self.pops[side][pop], self.recs[side][pop], \"all_to_all\")\\n\\n        # real ANFs (generators) to parrots\\n        connect(self.pops[\"R\"][\"ANF\"], self.pops[\"R\"][\"parrot_ANF\"], \"one_to_one\")\\n        connect(self.pops[\"L\"][\"ANF\"], self.pops[\"L\"][\"parrot_ANF\"], \"one_to_one\")\\n\\n\\n        # ANFs to SBCs\\n        connect(\\n            self.pops[\"R\"][\"parrot_ANF\"],\\n            self.pops[\"R\"][\"SBC\"],\\n            \"x_to_one\",\\n            syn_spec={\"weight\": P.SYN_WEIGHTS.ANFs2SBCs},\\n            num_sources=P.POP_CONN.ANFs2SBCs,\\n        )\\n        connect(\\n            self.pops[\"L\"][\"parrot_ANF\"],\\n            self.pops[\"L\"][\"SBC\"],\\n            \"x_to_one\",\\n            syn_spec={\"weight\": P.SYN_WEIGHTS.ANFs2SBCs},\\n            num_sources=P.POP_CONN.ANFs2SBCs,\\n        )\\n\\n        # ANFs to GBCs\\n        connect(\\n            self.pops[\"R\"][\"parrot_ANF\"],\\n            self.pops[\"R\"][\"GBC\"],\\n            \"x_to_one\",\\n            syn_spec={\"weight\": P.SYN_WEIGHTS.ANFs2GBCs},\\n            num_sources=P.POP_CONN.ANFs2GBCs,\\n        )\\n\\n        connect(\\n            self.pops[\"L\"][\"parrot_ANF\"],\\n            self.pops[\"L\"][\"GBC\"],\\n            \"x_to_one\",\\n            syn_spec={\"weight\": P.SYN_WEIGHTS.ANFs2GBCs},\\n            num_sources=P.POP_CONN.ANFs2GBCs,\\n        )\\n\\n        # GBCs to LNTBCs\\n        connect(\\n            self.pops[\"R\"][\"GBC\"],\\n            self.pops[\"R\"][\"LNTBC\"],\\n            \"one_to_one\",\\n            syn_spec={\\n                \"weight\": P.SYN_WEIGHTS.GBCs2LNTBCs,\\n                \"delay\": P.DELAYS.GBCs2LNTBCs,\\n            },\\n        )\\n        connect(\\n            self.pops[\"L\"][\"GBC\"],\\n            self.pops[\"L\"][\"LNTBC\"],\\n            \"one_to_one\",\\n            syn_spec={\\n                \"weight\": P.SYN_WEIGHTS.GBCs2LNTBCs,\\n                \"delay\": P.DELAYS.GBCs2LNTBCs,\\n            },\\n        )\\n        # GBCs to MNTBCs\\n        connect(\\n            self.pops[\"R\"][\"GBC\"],\\n            self.pops[\"L\"][\"MNTBC\"],\\n            \"one_to_one\",\\n            syn_spec={\\n                \"weight\": P.SYN_WEIGHTS.GBCs2MNTBCs,\\n                \"delay\": P.DELAYS.GBCs2MNTBCs,\\n            },\\n        )\\n        connect(\\n            self.pops[\"L\"][\"GBC\"],\\n            self.pops[\"R\"][\"MNTBC\"],\\n            \"one_to_one\",\\n            syn_spec={\\n                \"weight\": P.SYN_WEIGHTS.GBCs2MNTBCs,\\n                \"delay\": P.DELAYS.GBCs2MNTBCs,\\n            },\\n        )\\n\\n        # MSO\\n        # From SBCs (excitation):\\n        # r_MSO\\n        #       ipsi\\n        connect(\\n            self.pops[\"R\"][\"SBC\"],\\n            self.pops[\"R\"][\"MSO\"],\\n            \"x_to_one\",\\n            syn_spec={\\n                \"weight\": P.SYN_WEIGHTS.SBCs2MSO,\\n                \"delay\": P.DELAYS.SBCs2MSO_exc_ipsi,\\n            },\\n            num_sources=P.SBCs2MSOs,\\n        )\\n        #       contra\\n        connect(\\n            self.pops[\"L\"][\"SBC\"],\\n            self.pops[\"R\"][\"MSO\"],\\n            \"x_to_one\",\\n            syn_spec={\\n                \"weight\": P.SYN_WEIGHTS.SBCs2MSO,\\n                \"delay\": P.DELAYS.SBCs2MSO_exc_contra,\\n            },\\n            num_sources=P.SBCs2MSOs,\\n        )\\n        # l_MSO\\n        #       ipsi\\n        connect(\\n            self.pops[\"L\"][\"SBC\"],\\n            self.pops[\"L\"][\"MSO\"],\\n            \"x_to_one\",\\n            syn_spec={\\n                \"weight\": P.SYN_WEIGHTS.SBCs2MSO,\\n                \"delay\": P.DELAYS.SBCs2MSO_exc_ipsi,\\n            },\\n            num_sources=P.SBCs2MSOs,\\n        )\\n        #       contra\\n        connect(\\n            self.pops[\"R\"][\"SBC\"],\\n            self.pops[\"L\"][\"MSO\"],\\n            \"x_to_one\",\\n            syn_spec={\\n                \"weight\": P.SYN_WEIGHTS.SBCs2MSO,\\n                \"delay\": P.DELAYS.SBCs2MSO_exc_contra,\\n            },\\n            num_sources=P.SBCs2MSOs,\\n        )\\n        # From LNTBCs (inhibition), ipsi\\n        connect(\\n            self.pops[\"R\"][\"LNTBC\"],\\n            self.pops[\"R\"][\"MSO\"],\\n            \"one_to_one\",\\n            syn_spec={\\n                \"weight\": P.SYN_WEIGHTS.LNTBCs2MSO,\\n                \"delay\": P.DELAYS.LNTBCs2MSO_inh_ipsi,\\n            },\\n        )\\n        # From MNTBCs (inhibition) contra\\n        connect(\\n            self.pops[\"R\"][\"MNTBC\"],\\n            self.pops[\"R\"][\"MSO\"],\\n            \"one_to_one\",\\n            syn_spec={\\n                \"weight\": P.SYN_WEIGHTS.MNTBCs2MSO,\\n                \"delay\": P.DELAYS.MNTBCs2MSO_inh_contra,\\n            },\\n        )\\n        # From LNTBCs (inhibition) ipsi\\n        connect(\\n            self.pops[\"L\"][\"LNTBC\"],\\n            self.pops[\"L\"][\"MSO\"],\\n            \"one_to_one\",\\n            syn_spec={\\n                \"weight\": P.SYN_WEIGHTS.LNTBCs2MSO,\\n                \"delay\": P.DELAYS.LNTBCs2MSO_inh_ipsi,\\n            },\\n        )\\n        # From MNTBCs (inhibition) contra\\n        connect(\\n            self.pops[\"L\"][\"MNTBC\"],\\n            self.pops[\"L\"][\"MSO\"],\\n            \"one_to_one\",\\n            syn_spec={\\n                \"weight\": P.SYN_WEIGHTS.MNTBCs2MSO,\\n                \"delay\": P.DELAYS.MNTBCs2MSO_inh_contra,\\n            },\\n        )\\n\\n        # LSO\\n        connect(\\n            self.pops[\"R\"][\"SBC\"],\\n            self.pops[\"R\"][\"LSO\"],\\n            \"x_to_one\",\\n            syn_spec={\"weight\": P.SYN_WEIGHTS.SBCs2LSO},\\n            num_sources=P.SBCs2LSOs,\\n        )\\n        connect(\\n            self.pops[\"L\"][\"SBC\"],\\n            self.pops[\"L\"][\"LSO\"],\\n            \"x_to_one\",\\n            syn_spec={\"weight\": P.SYN_WEIGHTS.SBCs2LSO},\\n            num_sources=P.SBCs2LSOs,\\n        )\\n        connect(\\n            self.pops[\"R\"][\"MNTBC\"],\\n            self.pops[\"R\"][\"LSO\"],\\n            \"one_to_one\",\\n            syn_spec={\"weight\": P.SYN_WEIGHTS.MNTBCs2LSO},\\n        )\\n        connect(\\n            self.pops[\"L\"][\"MNTBC\"],\\n            self.pops[\"L\"][\"LSO\"],\\n            \"one_to_one\",\\n            syn_spec={\"weight\": P.SYN_WEIGHTS.MNTBCs2LSO},\\n        )\\n'},\n",
       " 'sound_key': 'tone_10.kHz_70dB',\n",
       " 'cochlea_type': 'TanCarney'}"
      ]
     },
     "execution_count": 4,
     "metadata": {},
     "output_type": "execute_result"
    }
   ],
   "source": [
    "result['conf']"
   ]
  },
  {
   "cell_type": "code",
   "execution_count": null,
   "id": "174eabcc",
   "metadata": {},
   "outputs": [],
   "source": []
  }
 ],
 "metadata": {
  "kernelspec": {
   "display_name": "hears_env_linux",
   "language": "python",
   "name": "python3"
  },
  "language_info": {
   "codemirror_mode": {
    "name": "ipython",
    "version": 3
   },
   "file_extension": ".py",
   "mimetype": "text/x-python",
   "name": "python",
   "nbconvert_exporter": "python",
   "pygments_lexer": "ipython3",
   "version": "3.12.3"
  }
 },
 "nbformat": 4,
 "nbformat_minor": 5
}
